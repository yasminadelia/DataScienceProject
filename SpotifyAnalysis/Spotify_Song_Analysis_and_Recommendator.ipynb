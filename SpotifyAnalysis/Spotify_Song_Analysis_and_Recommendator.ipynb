{
  "nbformat": 4,
  "nbformat_minor": 0,
  "metadata": {
    "kernelspec": {
      "display_name": "Python 3",
      "language": "python",
      "name": "python3"
    },
    "language_info": {
      "codemirror_mode": {
        "name": "ipython",
        "version": 3
      },
      "file_extension": ".py",
      "mimetype": "text/x-python",
      "name": "python",
      "nbconvert_exporter": "python",
      "pygments_lexer": "ipython3",
      "version": "3.8.3"
    },
    "colab": {
      "name": "Spotify Song Analysis and Recommendator.ipynb",
      "provenance": [],
      "collapsed_sections": [],
      "include_colab_link": true
    },
    "accelerator": "GPU"
  },
  "cells": [
    {
      "cell_type": "markdown",
      "metadata": {
        "id": "view-in-github",
        "colab_type": "text"
      },
      "source": [
        "<a href=\"https://colab.research.google.com/github/yasminadelia/DataScienceProject/blob/master/Spotify_Song_Analysis_and_Recommendator.ipynb\" target=\"_parent\"><img src=\"https://colab.research.google.com/assets/colab-badge.svg\" alt=\"Open In Colab\"/></a>"
      ]
    },
    {
      "cell_type": "markdown",
      "metadata": {
        "id": "YOMF-y4UF9p_"
      },
      "source": [
        "Dataset: https://www.kaggle.com/yamaerenay/spotify-dataset-19212020-160k-tracks"
      ]
    },
    {
      "cell_type": "code",
      "metadata": {
        "colab": {
          "base_uri": "https://localhost:8080/"
        },
        "id": "PAzFPFJKHV6R",
        "outputId": "54930d51-ce59-48cf-ee3b-d038226d61ed"
      },
      "source": [
        "from google.colab import drive\n",
        "drive.mount('/content/drive')"
      ],
      "execution_count": 139,
      "outputs": [
        {
          "output_type": "stream",
          "text": [
            "Drive already mounted at /content/drive; to attempt to forcibly remount, call drive.mount(\"/content/drive\", force_remount=True).\n"
          ],
          "name": "stdout"
        }
      ]
    },
    {
      "cell_type": "code",
      "metadata": {
        "id": "dSVwHnogHHBt"
      },
      "source": [
        "import numpy as np\n",
        "import pandas as pd\n",
        "import seaborn as sns\n",
        "import matplotlib.pyplot as plt\n",
        "from sklearn import linear_model\n",
        "from sklearn.preprocessing import MinMaxScaler\n",
        "from sklearn.cluster import KMeans\n",
        "%matplotlib inline"
      ],
      "execution_count": 140,
      "outputs": []
    },
    {
      "cell_type": "code",
      "metadata": {
        "colab": {
          "base_uri": "https://localhost:8080/",
          "height": 660
        },
        "id": "GoLzxgkTHHBv",
        "outputId": "6e52276e-4a9e-4825-90ba-719ea9c8b124"
      },
      "source": [
        "data_df = pd.read_csv(\"/content/drive/MyDrive/Colab Notebooks/spotify analysis/data.csv\")\n",
        "data_df"
      ],
      "execution_count": 141,
      "outputs": [
        {
          "output_type": "execute_result",
          "data": {
            "text/html": [
              "<div>\n",
              "<style scoped>\n",
              "    .dataframe tbody tr th:only-of-type {\n",
              "        vertical-align: middle;\n",
              "    }\n",
              "\n",
              "    .dataframe tbody tr th {\n",
              "        vertical-align: top;\n",
              "    }\n",
              "\n",
              "    .dataframe thead th {\n",
              "        text-align: right;\n",
              "    }\n",
              "</style>\n",
              "<table border=\"1\" class=\"dataframe\">\n",
              "  <thead>\n",
              "    <tr style=\"text-align: right;\">\n",
              "      <th></th>\n",
              "      <th>acousticness</th>\n",
              "      <th>artists</th>\n",
              "      <th>danceability</th>\n",
              "      <th>duration_ms</th>\n",
              "      <th>energy</th>\n",
              "      <th>explicit</th>\n",
              "      <th>id</th>\n",
              "      <th>instrumentalness</th>\n",
              "      <th>key</th>\n",
              "      <th>liveness</th>\n",
              "      <th>loudness</th>\n",
              "      <th>mode</th>\n",
              "      <th>name</th>\n",
              "      <th>popularity</th>\n",
              "      <th>release_date</th>\n",
              "      <th>speechiness</th>\n",
              "      <th>tempo</th>\n",
              "      <th>valence</th>\n",
              "      <th>year</th>\n",
              "    </tr>\n",
              "  </thead>\n",
              "  <tbody>\n",
              "    <tr>\n",
              "      <th>0</th>\n",
              "      <td>0.991000</td>\n",
              "      <td>['Mamie Smith']</td>\n",
              "      <td>0.598</td>\n",
              "      <td>168333</td>\n",
              "      <td>0.224</td>\n",
              "      <td>0</td>\n",
              "      <td>0cS0A1fUEUd1EW3FcF8AEI</td>\n",
              "      <td>0.000522</td>\n",
              "      <td>5</td>\n",
              "      <td>0.3790</td>\n",
              "      <td>-12.628</td>\n",
              "      <td>0</td>\n",
              "      <td>Keep A Song In Your Soul</td>\n",
              "      <td>12</td>\n",
              "      <td>1920</td>\n",
              "      <td>0.0936</td>\n",
              "      <td>149.976</td>\n",
              "      <td>0.6340</td>\n",
              "      <td>1920</td>\n",
              "    </tr>\n",
              "    <tr>\n",
              "      <th>1</th>\n",
              "      <td>0.643000</td>\n",
              "      <td>[\"Screamin' Jay Hawkins\"]</td>\n",
              "      <td>0.852</td>\n",
              "      <td>150200</td>\n",
              "      <td>0.517</td>\n",
              "      <td>0</td>\n",
              "      <td>0hbkKFIJm7Z05H8Zl9w30f</td>\n",
              "      <td>0.026400</td>\n",
              "      <td>5</td>\n",
              "      <td>0.0809</td>\n",
              "      <td>-7.261</td>\n",
              "      <td>0</td>\n",
              "      <td>I Put A Spell On You</td>\n",
              "      <td>7</td>\n",
              "      <td>1920-01-05</td>\n",
              "      <td>0.0534</td>\n",
              "      <td>86.889</td>\n",
              "      <td>0.9500</td>\n",
              "      <td>1920</td>\n",
              "    </tr>\n",
              "    <tr>\n",
              "      <th>2</th>\n",
              "      <td>0.993000</td>\n",
              "      <td>['Mamie Smith']</td>\n",
              "      <td>0.647</td>\n",
              "      <td>163827</td>\n",
              "      <td>0.186</td>\n",
              "      <td>0</td>\n",
              "      <td>11m7laMUgmOKqI3oYzuhne</td>\n",
              "      <td>0.000018</td>\n",
              "      <td>0</td>\n",
              "      <td>0.5190</td>\n",
              "      <td>-12.098</td>\n",
              "      <td>1</td>\n",
              "      <td>Golfing Papa</td>\n",
              "      <td>4</td>\n",
              "      <td>1920</td>\n",
              "      <td>0.1740</td>\n",
              "      <td>97.600</td>\n",
              "      <td>0.6890</td>\n",
              "      <td>1920</td>\n",
              "    </tr>\n",
              "    <tr>\n",
              "      <th>3</th>\n",
              "      <td>0.000173</td>\n",
              "      <td>['Oscar Velazquez']</td>\n",
              "      <td>0.730</td>\n",
              "      <td>422087</td>\n",
              "      <td>0.798</td>\n",
              "      <td>0</td>\n",
              "      <td>19Lc5SfJJ5O1oaxY0fpwfh</td>\n",
              "      <td>0.801000</td>\n",
              "      <td>2</td>\n",
              "      <td>0.1280</td>\n",
              "      <td>-7.311</td>\n",
              "      <td>1</td>\n",
              "      <td>True House Music - Xavier Santos &amp; Carlos Gomi...</td>\n",
              "      <td>17</td>\n",
              "      <td>1920-01-01</td>\n",
              "      <td>0.0425</td>\n",
              "      <td>127.997</td>\n",
              "      <td>0.0422</td>\n",
              "      <td>1920</td>\n",
              "    </tr>\n",
              "    <tr>\n",
              "      <th>4</th>\n",
              "      <td>0.295000</td>\n",
              "      <td>['Mixe']</td>\n",
              "      <td>0.704</td>\n",
              "      <td>165224</td>\n",
              "      <td>0.707</td>\n",
              "      <td>1</td>\n",
              "      <td>2hJjbsLCytGsnAHfdsLejp</td>\n",
              "      <td>0.000246</td>\n",
              "      <td>10</td>\n",
              "      <td>0.4020</td>\n",
              "      <td>-6.036</td>\n",
              "      <td>0</td>\n",
              "      <td>Xuniverxe</td>\n",
              "      <td>2</td>\n",
              "      <td>1920-10-01</td>\n",
              "      <td>0.0768</td>\n",
              "      <td>122.076</td>\n",
              "      <td>0.2990</td>\n",
              "      <td>1920</td>\n",
              "    </tr>\n",
              "    <tr>\n",
              "      <th>...</th>\n",
              "      <td>...</td>\n",
              "      <td>...</td>\n",
              "      <td>...</td>\n",
              "      <td>...</td>\n",
              "      <td>...</td>\n",
              "      <td>...</td>\n",
              "      <td>...</td>\n",
              "      <td>...</td>\n",
              "      <td>...</td>\n",
              "      <td>...</td>\n",
              "      <td>...</td>\n",
              "      <td>...</td>\n",
              "      <td>...</td>\n",
              "      <td>...</td>\n",
              "      <td>...</td>\n",
              "      <td>...</td>\n",
              "      <td>...</td>\n",
              "      <td>...</td>\n",
              "      <td>...</td>\n",
              "    </tr>\n",
              "    <tr>\n",
              "      <th>174384</th>\n",
              "      <td>0.009170</td>\n",
              "      <td>['DJ Combo', 'Sander-7', 'Tony T']</td>\n",
              "      <td>0.792</td>\n",
              "      <td>147615</td>\n",
              "      <td>0.866</td>\n",
              "      <td>0</td>\n",
              "      <td>46LhBf6TvYjZU2SMvGZAbn</td>\n",
              "      <td>0.000060</td>\n",
              "      <td>6</td>\n",
              "      <td>0.1780</td>\n",
              "      <td>-5.089</td>\n",
              "      <td>0</td>\n",
              "      <td>The One</td>\n",
              "      <td>0</td>\n",
              "      <td>2020-12-25</td>\n",
              "      <td>0.0356</td>\n",
              "      <td>125.972</td>\n",
              "      <td>0.1860</td>\n",
              "      <td>2020</td>\n",
              "    </tr>\n",
              "    <tr>\n",
              "      <th>174385</th>\n",
              "      <td>0.795000</td>\n",
              "      <td>['Alessia Cara']</td>\n",
              "      <td>0.429</td>\n",
              "      <td>144720</td>\n",
              "      <td>0.211</td>\n",
              "      <td>0</td>\n",
              "      <td>7tue2Wemjd0FZzRtDrQFZd</td>\n",
              "      <td>0.000000</td>\n",
              "      <td>4</td>\n",
              "      <td>0.1960</td>\n",
              "      <td>-11.665</td>\n",
              "      <td>1</td>\n",
              "      <td>A Little More</td>\n",
              "      <td>0</td>\n",
              "      <td>2021-01-22</td>\n",
              "      <td>0.0360</td>\n",
              "      <td>94.710</td>\n",
              "      <td>0.2280</td>\n",
              "      <td>2021</td>\n",
              "    </tr>\n",
              "    <tr>\n",
              "      <th>174386</th>\n",
              "      <td>0.806000</td>\n",
              "      <td>['Roger Fly']</td>\n",
              "      <td>0.671</td>\n",
              "      <td>218147</td>\n",
              "      <td>0.589</td>\n",
              "      <td>0</td>\n",
              "      <td>48Qj61hOdYmUCFJbpQ29Ob</td>\n",
              "      <td>0.920000</td>\n",
              "      <td>4</td>\n",
              "      <td>0.1130</td>\n",
              "      <td>-12.393</td>\n",
              "      <td>0</td>\n",
              "      <td>Together</td>\n",
              "      <td>0</td>\n",
              "      <td>2020-12-09</td>\n",
              "      <td>0.0282</td>\n",
              "      <td>108.058</td>\n",
              "      <td>0.7140</td>\n",
              "      <td>2020</td>\n",
              "    </tr>\n",
              "    <tr>\n",
              "      <th>174387</th>\n",
              "      <td>0.920000</td>\n",
              "      <td>['Taylor Swift']</td>\n",
              "      <td>0.462</td>\n",
              "      <td>244000</td>\n",
              "      <td>0.240</td>\n",
              "      <td>1</td>\n",
              "      <td>1gcyHQpBQ1lfXGdhZmWrHP</td>\n",
              "      <td>0.000000</td>\n",
              "      <td>0</td>\n",
              "      <td>0.1130</td>\n",
              "      <td>-12.077</td>\n",
              "      <td>1</td>\n",
              "      <td>champagne problems</td>\n",
              "      <td>69</td>\n",
              "      <td>2021-01-07</td>\n",
              "      <td>0.0377</td>\n",
              "      <td>171.319</td>\n",
              "      <td>0.3200</td>\n",
              "      <td>2021</td>\n",
              "    </tr>\n",
              "    <tr>\n",
              "      <th>174388</th>\n",
              "      <td>0.239000</td>\n",
              "      <td>['Roger Fly']</td>\n",
              "      <td>0.677</td>\n",
              "      <td>197710</td>\n",
              "      <td>0.460</td>\n",
              "      <td>0</td>\n",
              "      <td>57tgYkWQTNHVFEt6xDKKZj</td>\n",
              "      <td>0.891000</td>\n",
              "      <td>7</td>\n",
              "      <td>0.2150</td>\n",
              "      <td>-12.237</td>\n",
              "      <td>1</td>\n",
              "      <td>Improvisations</td>\n",
              "      <td>0</td>\n",
              "      <td>2020-12-09</td>\n",
              "      <td>0.0258</td>\n",
              "      <td>112.208</td>\n",
              "      <td>0.7470</td>\n",
              "      <td>2020</td>\n",
              "    </tr>\n",
              "  </tbody>\n",
              "</table>\n",
              "<p>174389 rows × 19 columns</p>\n",
              "</div>"
            ],
            "text/plain": [
              "        acousticness                             artists  ...  valence  year\n",
              "0           0.991000                     ['Mamie Smith']  ...   0.6340  1920\n",
              "1           0.643000           [\"Screamin' Jay Hawkins\"]  ...   0.9500  1920\n",
              "2           0.993000                     ['Mamie Smith']  ...   0.6890  1920\n",
              "3           0.000173                 ['Oscar Velazquez']  ...   0.0422  1920\n",
              "4           0.295000                            ['Mixe']  ...   0.2990  1920\n",
              "...              ...                                 ...  ...      ...   ...\n",
              "174384      0.009170  ['DJ Combo', 'Sander-7', 'Tony T']  ...   0.1860  2020\n",
              "174385      0.795000                    ['Alessia Cara']  ...   0.2280  2021\n",
              "174386      0.806000                       ['Roger Fly']  ...   0.7140  2020\n",
              "174387      0.920000                    ['Taylor Swift']  ...   0.3200  2021\n",
              "174388      0.239000                       ['Roger Fly']  ...   0.7470  2020\n",
              "\n",
              "[174389 rows x 19 columns]"
            ]
          },
          "metadata": {
            "tags": []
          },
          "execution_count": 141
        }
      ]
    },
    {
      "cell_type": "code",
      "metadata": {
        "colab": {
          "base_uri": "https://localhost:8080/"
        },
        "id": "zQSsmkPaHHBy",
        "outputId": "43604dc1-17ab-4a27-bc16-c96bf39d2377"
      },
      "source": [
        "data_df.info()"
      ],
      "execution_count": 142,
      "outputs": [
        {
          "output_type": "stream",
          "text": [
            "<class 'pandas.core.frame.DataFrame'>\n",
            "RangeIndex: 174389 entries, 0 to 174388\n",
            "Data columns (total 19 columns):\n",
            " #   Column            Non-Null Count   Dtype  \n",
            "---  ------            --------------   -----  \n",
            " 0   acousticness      174389 non-null  float64\n",
            " 1   artists           174389 non-null  object \n",
            " 2   danceability      174389 non-null  float64\n",
            " 3   duration_ms       174389 non-null  int64  \n",
            " 4   energy            174389 non-null  float64\n",
            " 5   explicit          174389 non-null  int64  \n",
            " 6   id                174389 non-null  object \n",
            " 7   instrumentalness  174389 non-null  float64\n",
            " 8   key               174389 non-null  int64  \n",
            " 9   liveness          174389 non-null  float64\n",
            " 10  loudness          174389 non-null  float64\n",
            " 11  mode              174389 non-null  int64  \n",
            " 12  name              174389 non-null  object \n",
            " 13  popularity        174389 non-null  int64  \n",
            " 14  release_date      174389 non-null  object \n",
            " 15  speechiness       174389 non-null  float64\n",
            " 16  tempo             174389 non-null  float64\n",
            " 17  valence           174389 non-null  float64\n",
            " 18  year              174389 non-null  int64  \n",
            "dtypes: float64(9), int64(6), object(4)\n",
            "memory usage: 25.3+ MB\n"
          ],
          "name": "stdout"
        }
      ]
    },
    {
      "cell_type": "markdown",
      "metadata": {
        "id": "TsYRRnGSEmWJ"
      },
      "source": [
        "## Preprocessing"
      ]
    },
    {
      "cell_type": "code",
      "metadata": {
        "id": "fDUPJtj2HHBz"
      },
      "source": [
        "import re\n",
        "\n",
        "# remove square bracket and quotation marks from artist name\n",
        "data_df['artists'] = data_df['artists'].apply(lambda x: re.sub(r'[\\[\"\\'\\]]', '',x))"
      ],
      "execution_count": 143,
      "outputs": []
    },
    {
      "cell_type": "code",
      "metadata": {
        "colab": {
          "base_uri": "https://localhost:8080/",
          "height": 626
        },
        "id": "MuMY-0LBHHB0",
        "outputId": "2e3360fc-37d6-4747-d5ab-e04a38d050f8"
      },
      "source": [
        "data_df"
      ],
      "execution_count": 144,
      "outputs": [
        {
          "output_type": "execute_result",
          "data": {
            "text/html": [
              "<div>\n",
              "<style scoped>\n",
              "    .dataframe tbody tr th:only-of-type {\n",
              "        vertical-align: middle;\n",
              "    }\n",
              "\n",
              "    .dataframe tbody tr th {\n",
              "        vertical-align: top;\n",
              "    }\n",
              "\n",
              "    .dataframe thead th {\n",
              "        text-align: right;\n",
              "    }\n",
              "</style>\n",
              "<table border=\"1\" class=\"dataframe\">\n",
              "  <thead>\n",
              "    <tr style=\"text-align: right;\">\n",
              "      <th></th>\n",
              "      <th>acousticness</th>\n",
              "      <th>artists</th>\n",
              "      <th>danceability</th>\n",
              "      <th>duration_ms</th>\n",
              "      <th>energy</th>\n",
              "      <th>explicit</th>\n",
              "      <th>id</th>\n",
              "      <th>instrumentalness</th>\n",
              "      <th>key</th>\n",
              "      <th>liveness</th>\n",
              "      <th>loudness</th>\n",
              "      <th>mode</th>\n",
              "      <th>name</th>\n",
              "      <th>popularity</th>\n",
              "      <th>release_date</th>\n",
              "      <th>speechiness</th>\n",
              "      <th>tempo</th>\n",
              "      <th>valence</th>\n",
              "      <th>year</th>\n",
              "    </tr>\n",
              "  </thead>\n",
              "  <tbody>\n",
              "    <tr>\n",
              "      <th>0</th>\n",
              "      <td>0.991000</td>\n",
              "      <td>Mamie Smith</td>\n",
              "      <td>0.598</td>\n",
              "      <td>168333</td>\n",
              "      <td>0.224</td>\n",
              "      <td>0</td>\n",
              "      <td>0cS0A1fUEUd1EW3FcF8AEI</td>\n",
              "      <td>0.000522</td>\n",
              "      <td>5</td>\n",
              "      <td>0.3790</td>\n",
              "      <td>-12.628</td>\n",
              "      <td>0</td>\n",
              "      <td>Keep A Song In Your Soul</td>\n",
              "      <td>12</td>\n",
              "      <td>1920</td>\n",
              "      <td>0.0936</td>\n",
              "      <td>149.976</td>\n",
              "      <td>0.6340</td>\n",
              "      <td>1920</td>\n",
              "    </tr>\n",
              "    <tr>\n",
              "      <th>1</th>\n",
              "      <td>0.643000</td>\n",
              "      <td>Screamin Jay Hawkins</td>\n",
              "      <td>0.852</td>\n",
              "      <td>150200</td>\n",
              "      <td>0.517</td>\n",
              "      <td>0</td>\n",
              "      <td>0hbkKFIJm7Z05H8Zl9w30f</td>\n",
              "      <td>0.026400</td>\n",
              "      <td>5</td>\n",
              "      <td>0.0809</td>\n",
              "      <td>-7.261</td>\n",
              "      <td>0</td>\n",
              "      <td>I Put A Spell On You</td>\n",
              "      <td>7</td>\n",
              "      <td>1920-01-05</td>\n",
              "      <td>0.0534</td>\n",
              "      <td>86.889</td>\n",
              "      <td>0.9500</td>\n",
              "      <td>1920</td>\n",
              "    </tr>\n",
              "    <tr>\n",
              "      <th>2</th>\n",
              "      <td>0.993000</td>\n",
              "      <td>Mamie Smith</td>\n",
              "      <td>0.647</td>\n",
              "      <td>163827</td>\n",
              "      <td>0.186</td>\n",
              "      <td>0</td>\n",
              "      <td>11m7laMUgmOKqI3oYzuhne</td>\n",
              "      <td>0.000018</td>\n",
              "      <td>0</td>\n",
              "      <td>0.5190</td>\n",
              "      <td>-12.098</td>\n",
              "      <td>1</td>\n",
              "      <td>Golfing Papa</td>\n",
              "      <td>4</td>\n",
              "      <td>1920</td>\n",
              "      <td>0.1740</td>\n",
              "      <td>97.600</td>\n",
              "      <td>0.6890</td>\n",
              "      <td>1920</td>\n",
              "    </tr>\n",
              "    <tr>\n",
              "      <th>3</th>\n",
              "      <td>0.000173</td>\n",
              "      <td>Oscar Velazquez</td>\n",
              "      <td>0.730</td>\n",
              "      <td>422087</td>\n",
              "      <td>0.798</td>\n",
              "      <td>0</td>\n",
              "      <td>19Lc5SfJJ5O1oaxY0fpwfh</td>\n",
              "      <td>0.801000</td>\n",
              "      <td>2</td>\n",
              "      <td>0.1280</td>\n",
              "      <td>-7.311</td>\n",
              "      <td>1</td>\n",
              "      <td>True House Music - Xavier Santos &amp; Carlos Gomi...</td>\n",
              "      <td>17</td>\n",
              "      <td>1920-01-01</td>\n",
              "      <td>0.0425</td>\n",
              "      <td>127.997</td>\n",
              "      <td>0.0422</td>\n",
              "      <td>1920</td>\n",
              "    </tr>\n",
              "    <tr>\n",
              "      <th>4</th>\n",
              "      <td>0.295000</td>\n",
              "      <td>Mixe</td>\n",
              "      <td>0.704</td>\n",
              "      <td>165224</td>\n",
              "      <td>0.707</td>\n",
              "      <td>1</td>\n",
              "      <td>2hJjbsLCytGsnAHfdsLejp</td>\n",
              "      <td>0.000246</td>\n",
              "      <td>10</td>\n",
              "      <td>0.4020</td>\n",
              "      <td>-6.036</td>\n",
              "      <td>0</td>\n",
              "      <td>Xuniverxe</td>\n",
              "      <td>2</td>\n",
              "      <td>1920-10-01</td>\n",
              "      <td>0.0768</td>\n",
              "      <td>122.076</td>\n",
              "      <td>0.2990</td>\n",
              "      <td>1920</td>\n",
              "    </tr>\n",
              "    <tr>\n",
              "      <th>...</th>\n",
              "      <td>...</td>\n",
              "      <td>...</td>\n",
              "      <td>...</td>\n",
              "      <td>...</td>\n",
              "      <td>...</td>\n",
              "      <td>...</td>\n",
              "      <td>...</td>\n",
              "      <td>...</td>\n",
              "      <td>...</td>\n",
              "      <td>...</td>\n",
              "      <td>...</td>\n",
              "      <td>...</td>\n",
              "      <td>...</td>\n",
              "      <td>...</td>\n",
              "      <td>...</td>\n",
              "      <td>...</td>\n",
              "      <td>...</td>\n",
              "      <td>...</td>\n",
              "      <td>...</td>\n",
              "    </tr>\n",
              "    <tr>\n",
              "      <th>174384</th>\n",
              "      <td>0.009170</td>\n",
              "      <td>DJ Combo, Sander-7, Tony T</td>\n",
              "      <td>0.792</td>\n",
              "      <td>147615</td>\n",
              "      <td>0.866</td>\n",
              "      <td>0</td>\n",
              "      <td>46LhBf6TvYjZU2SMvGZAbn</td>\n",
              "      <td>0.000060</td>\n",
              "      <td>6</td>\n",
              "      <td>0.1780</td>\n",
              "      <td>-5.089</td>\n",
              "      <td>0</td>\n",
              "      <td>The One</td>\n",
              "      <td>0</td>\n",
              "      <td>2020-12-25</td>\n",
              "      <td>0.0356</td>\n",
              "      <td>125.972</td>\n",
              "      <td>0.1860</td>\n",
              "      <td>2020</td>\n",
              "    </tr>\n",
              "    <tr>\n",
              "      <th>174385</th>\n",
              "      <td>0.795000</td>\n",
              "      <td>Alessia Cara</td>\n",
              "      <td>0.429</td>\n",
              "      <td>144720</td>\n",
              "      <td>0.211</td>\n",
              "      <td>0</td>\n",
              "      <td>7tue2Wemjd0FZzRtDrQFZd</td>\n",
              "      <td>0.000000</td>\n",
              "      <td>4</td>\n",
              "      <td>0.1960</td>\n",
              "      <td>-11.665</td>\n",
              "      <td>1</td>\n",
              "      <td>A Little More</td>\n",
              "      <td>0</td>\n",
              "      <td>2021-01-22</td>\n",
              "      <td>0.0360</td>\n",
              "      <td>94.710</td>\n",
              "      <td>0.2280</td>\n",
              "      <td>2021</td>\n",
              "    </tr>\n",
              "    <tr>\n",
              "      <th>174386</th>\n",
              "      <td>0.806000</td>\n",
              "      <td>Roger Fly</td>\n",
              "      <td>0.671</td>\n",
              "      <td>218147</td>\n",
              "      <td>0.589</td>\n",
              "      <td>0</td>\n",
              "      <td>48Qj61hOdYmUCFJbpQ29Ob</td>\n",
              "      <td>0.920000</td>\n",
              "      <td>4</td>\n",
              "      <td>0.1130</td>\n",
              "      <td>-12.393</td>\n",
              "      <td>0</td>\n",
              "      <td>Together</td>\n",
              "      <td>0</td>\n",
              "      <td>2020-12-09</td>\n",
              "      <td>0.0282</td>\n",
              "      <td>108.058</td>\n",
              "      <td>0.7140</td>\n",
              "      <td>2020</td>\n",
              "    </tr>\n",
              "    <tr>\n",
              "      <th>174387</th>\n",
              "      <td>0.920000</td>\n",
              "      <td>Taylor Swift</td>\n",
              "      <td>0.462</td>\n",
              "      <td>244000</td>\n",
              "      <td>0.240</td>\n",
              "      <td>1</td>\n",
              "      <td>1gcyHQpBQ1lfXGdhZmWrHP</td>\n",
              "      <td>0.000000</td>\n",
              "      <td>0</td>\n",
              "      <td>0.1130</td>\n",
              "      <td>-12.077</td>\n",
              "      <td>1</td>\n",
              "      <td>champagne problems</td>\n",
              "      <td>69</td>\n",
              "      <td>2021-01-07</td>\n",
              "      <td>0.0377</td>\n",
              "      <td>171.319</td>\n",
              "      <td>0.3200</td>\n",
              "      <td>2021</td>\n",
              "    </tr>\n",
              "    <tr>\n",
              "      <th>174388</th>\n",
              "      <td>0.239000</td>\n",
              "      <td>Roger Fly</td>\n",
              "      <td>0.677</td>\n",
              "      <td>197710</td>\n",
              "      <td>0.460</td>\n",
              "      <td>0</td>\n",
              "      <td>57tgYkWQTNHVFEt6xDKKZj</td>\n",
              "      <td>0.891000</td>\n",
              "      <td>7</td>\n",
              "      <td>0.2150</td>\n",
              "      <td>-12.237</td>\n",
              "      <td>1</td>\n",
              "      <td>Improvisations</td>\n",
              "      <td>0</td>\n",
              "      <td>2020-12-09</td>\n",
              "      <td>0.0258</td>\n",
              "      <td>112.208</td>\n",
              "      <td>0.7470</td>\n",
              "      <td>2020</td>\n",
              "    </tr>\n",
              "  </tbody>\n",
              "</table>\n",
              "<p>174389 rows × 19 columns</p>\n",
              "</div>"
            ],
            "text/plain": [
              "        acousticness                     artists  ...  valence  year\n",
              "0           0.991000                 Mamie Smith  ...   0.6340  1920\n",
              "1           0.643000        Screamin Jay Hawkins  ...   0.9500  1920\n",
              "2           0.993000                 Mamie Smith  ...   0.6890  1920\n",
              "3           0.000173             Oscar Velazquez  ...   0.0422  1920\n",
              "4           0.295000                        Mixe  ...   0.2990  1920\n",
              "...              ...                         ...  ...      ...   ...\n",
              "174384      0.009170  DJ Combo, Sander-7, Tony T  ...   0.1860  2020\n",
              "174385      0.795000                Alessia Cara  ...   0.2280  2021\n",
              "174386      0.806000                   Roger Fly  ...   0.7140  2020\n",
              "174387      0.920000                Taylor Swift  ...   0.3200  2021\n",
              "174388      0.239000                   Roger Fly  ...   0.7470  2020\n",
              "\n",
              "[174389 rows x 19 columns]"
            ]
          },
          "metadata": {
            "tags": []
          },
          "execution_count": 144
        }
      ]
    },
    {
      "cell_type": "markdown",
      "metadata": {
        "id": "2tOwtM7ZGiVO"
      },
      "source": [
        "change release_date data type to datetime\r\n"
      ]
    },
    {
      "cell_type": "code",
      "metadata": {
        "scrolled": true,
        "colab": {
          "base_uri": "https://localhost:8080/",
          "height": 401
        },
        "id": "67hcHPtMHHB1",
        "outputId": "251f33d8-889d-430a-ca44-cf26980380c9"
      },
      "source": [
        "data_df['release_date'] = pd.to_datetime(data_df['release_date'])\n",
        "data_df.head()"
      ],
      "execution_count": 145,
      "outputs": [
        {
          "output_type": "execute_result",
          "data": {
            "text/html": [
              "<div>\n",
              "<style scoped>\n",
              "    .dataframe tbody tr th:only-of-type {\n",
              "        vertical-align: middle;\n",
              "    }\n",
              "\n",
              "    .dataframe tbody tr th {\n",
              "        vertical-align: top;\n",
              "    }\n",
              "\n",
              "    .dataframe thead th {\n",
              "        text-align: right;\n",
              "    }\n",
              "</style>\n",
              "<table border=\"1\" class=\"dataframe\">\n",
              "  <thead>\n",
              "    <tr style=\"text-align: right;\">\n",
              "      <th></th>\n",
              "      <th>acousticness</th>\n",
              "      <th>artists</th>\n",
              "      <th>danceability</th>\n",
              "      <th>duration_ms</th>\n",
              "      <th>energy</th>\n",
              "      <th>explicit</th>\n",
              "      <th>id</th>\n",
              "      <th>instrumentalness</th>\n",
              "      <th>key</th>\n",
              "      <th>liveness</th>\n",
              "      <th>loudness</th>\n",
              "      <th>mode</th>\n",
              "      <th>name</th>\n",
              "      <th>popularity</th>\n",
              "      <th>release_date</th>\n",
              "      <th>speechiness</th>\n",
              "      <th>tempo</th>\n",
              "      <th>valence</th>\n",
              "      <th>year</th>\n",
              "    </tr>\n",
              "  </thead>\n",
              "  <tbody>\n",
              "    <tr>\n",
              "      <th>0</th>\n",
              "      <td>0.991000</td>\n",
              "      <td>Mamie Smith</td>\n",
              "      <td>0.598</td>\n",
              "      <td>168333</td>\n",
              "      <td>0.224</td>\n",
              "      <td>0</td>\n",
              "      <td>0cS0A1fUEUd1EW3FcF8AEI</td>\n",
              "      <td>0.000522</td>\n",
              "      <td>5</td>\n",
              "      <td>0.3790</td>\n",
              "      <td>-12.628</td>\n",
              "      <td>0</td>\n",
              "      <td>Keep A Song In Your Soul</td>\n",
              "      <td>12</td>\n",
              "      <td>1920-01-01</td>\n",
              "      <td>0.0936</td>\n",
              "      <td>149.976</td>\n",
              "      <td>0.6340</td>\n",
              "      <td>1920</td>\n",
              "    </tr>\n",
              "    <tr>\n",
              "      <th>1</th>\n",
              "      <td>0.643000</td>\n",
              "      <td>Screamin Jay Hawkins</td>\n",
              "      <td>0.852</td>\n",
              "      <td>150200</td>\n",
              "      <td>0.517</td>\n",
              "      <td>0</td>\n",
              "      <td>0hbkKFIJm7Z05H8Zl9w30f</td>\n",
              "      <td>0.026400</td>\n",
              "      <td>5</td>\n",
              "      <td>0.0809</td>\n",
              "      <td>-7.261</td>\n",
              "      <td>0</td>\n",
              "      <td>I Put A Spell On You</td>\n",
              "      <td>7</td>\n",
              "      <td>1920-01-05</td>\n",
              "      <td>0.0534</td>\n",
              "      <td>86.889</td>\n",
              "      <td>0.9500</td>\n",
              "      <td>1920</td>\n",
              "    </tr>\n",
              "    <tr>\n",
              "      <th>2</th>\n",
              "      <td>0.993000</td>\n",
              "      <td>Mamie Smith</td>\n",
              "      <td>0.647</td>\n",
              "      <td>163827</td>\n",
              "      <td>0.186</td>\n",
              "      <td>0</td>\n",
              "      <td>11m7laMUgmOKqI3oYzuhne</td>\n",
              "      <td>0.000018</td>\n",
              "      <td>0</td>\n",
              "      <td>0.5190</td>\n",
              "      <td>-12.098</td>\n",
              "      <td>1</td>\n",
              "      <td>Golfing Papa</td>\n",
              "      <td>4</td>\n",
              "      <td>1920-01-01</td>\n",
              "      <td>0.1740</td>\n",
              "      <td>97.600</td>\n",
              "      <td>0.6890</td>\n",
              "      <td>1920</td>\n",
              "    </tr>\n",
              "    <tr>\n",
              "      <th>3</th>\n",
              "      <td>0.000173</td>\n",
              "      <td>Oscar Velazquez</td>\n",
              "      <td>0.730</td>\n",
              "      <td>422087</td>\n",
              "      <td>0.798</td>\n",
              "      <td>0</td>\n",
              "      <td>19Lc5SfJJ5O1oaxY0fpwfh</td>\n",
              "      <td>0.801000</td>\n",
              "      <td>2</td>\n",
              "      <td>0.1280</td>\n",
              "      <td>-7.311</td>\n",
              "      <td>1</td>\n",
              "      <td>True House Music - Xavier Santos &amp; Carlos Gomi...</td>\n",
              "      <td>17</td>\n",
              "      <td>1920-01-01</td>\n",
              "      <td>0.0425</td>\n",
              "      <td>127.997</td>\n",
              "      <td>0.0422</td>\n",
              "      <td>1920</td>\n",
              "    </tr>\n",
              "    <tr>\n",
              "      <th>4</th>\n",
              "      <td>0.295000</td>\n",
              "      <td>Mixe</td>\n",
              "      <td>0.704</td>\n",
              "      <td>165224</td>\n",
              "      <td>0.707</td>\n",
              "      <td>1</td>\n",
              "      <td>2hJjbsLCytGsnAHfdsLejp</td>\n",
              "      <td>0.000246</td>\n",
              "      <td>10</td>\n",
              "      <td>0.4020</td>\n",
              "      <td>-6.036</td>\n",
              "      <td>0</td>\n",
              "      <td>Xuniverxe</td>\n",
              "      <td>2</td>\n",
              "      <td>1920-10-01</td>\n",
              "      <td>0.0768</td>\n",
              "      <td>122.076</td>\n",
              "      <td>0.2990</td>\n",
              "      <td>1920</td>\n",
              "    </tr>\n",
              "  </tbody>\n",
              "</table>\n",
              "</div>"
            ],
            "text/plain": [
              "   acousticness               artists  danceability  ...    tempo  valence  year\n",
              "0      0.991000           Mamie Smith         0.598  ...  149.976   0.6340  1920\n",
              "1      0.643000  Screamin Jay Hawkins         0.852  ...   86.889   0.9500  1920\n",
              "2      0.993000           Mamie Smith         0.647  ...   97.600   0.6890  1920\n",
              "3      0.000173       Oscar Velazquez         0.730  ...  127.997   0.0422  1920\n",
              "4      0.295000                  Mixe         0.704  ...  122.076   0.2990  1920\n",
              "\n",
              "[5 rows x 19 columns]"
            ]
          },
          "metadata": {
            "tags": []
          },
          "execution_count": 145
        }
      ]
    },
    {
      "cell_type": "code",
      "metadata": {
        "colab": {
          "base_uri": "https://localhost:8080/"
        },
        "id": "VKZlWeD1HHB2",
        "outputId": "2608c385-6402-4364-93f9-8f4c83511259"
      },
      "source": [
        "data_df.shape"
      ],
      "execution_count": 146,
      "outputs": [
        {
          "output_type": "execute_result",
          "data": {
            "text/plain": [
              "(174389, 19)"
            ]
          },
          "metadata": {
            "tags": []
          },
          "execution_count": 146
        }
      ]
    },
    {
      "cell_type": "markdown",
      "metadata": {
        "id": "oSyJG7awHHB3"
      },
      "source": [
        "check if data has missing value"
      ]
    },
    {
      "cell_type": "code",
      "metadata": {
        "colab": {
          "base_uri": "https://localhost:8080/"
        },
        "id": "SF99VTyBHHB4",
        "outputId": "5b50fee8-8d05-4891-9a1e-babe61cb509d"
      },
      "source": [
        "data_df.isna().sum()"
      ],
      "execution_count": 147,
      "outputs": [
        {
          "output_type": "execute_result",
          "data": {
            "text/plain": [
              "acousticness        0\n",
              "artists             0\n",
              "danceability        0\n",
              "duration_ms         0\n",
              "energy              0\n",
              "explicit            0\n",
              "id                  0\n",
              "instrumentalness    0\n",
              "key                 0\n",
              "liveness            0\n",
              "loudness            0\n",
              "mode                0\n",
              "name                0\n",
              "popularity          0\n",
              "release_date        0\n",
              "speechiness         0\n",
              "tempo               0\n",
              "valence             0\n",
              "year                0\n",
              "dtype: int64"
            ]
          },
          "metadata": {
            "tags": []
          },
          "execution_count": 147
        }
      ]
    },
    {
      "cell_type": "code",
      "metadata": {
        "colab": {
          "base_uri": "https://localhost:8080/"
        },
        "id": "GVSM-PZoHHB7",
        "outputId": "ecfc5d5c-1333-4493-f3dd-b88afeaf46c7"
      },
      "source": [
        "data_df.dtypes"
      ],
      "execution_count": 148,
      "outputs": [
        {
          "output_type": "execute_result",
          "data": {
            "text/plain": [
              "acousticness               float64\n",
              "artists                     object\n",
              "danceability               float64\n",
              "duration_ms                  int64\n",
              "energy                     float64\n",
              "explicit                     int64\n",
              "id                          object\n",
              "instrumentalness           float64\n",
              "key                          int64\n",
              "liveness                   float64\n",
              "loudness                   float64\n",
              "mode                         int64\n",
              "name                        object\n",
              "popularity                   int64\n",
              "release_date        datetime64[ns]\n",
              "speechiness                float64\n",
              "tempo                      float64\n",
              "valence                    float64\n",
              "year                         int64\n",
              "dtype: object"
            ]
          },
          "metadata": {
            "tags": []
          },
          "execution_count": 148
        }
      ]
    },
    {
      "cell_type": "code",
      "metadata": {
        "id": "Uy5q9uc-HHB9"
      },
      "source": [
        ""
      ],
      "execution_count": 148,
      "outputs": []
    },
    {
      "cell_type": "markdown",
      "metadata": {
        "id": "sVBPC7TbHHB9"
      },
      "source": [
        "## Exploratory Data Analysis"
      ]
    },
    {
      "cell_type": "markdown",
      "metadata": {
        "id": "yGtpLfuvHHB-"
      },
      "source": [
        "Create dataframe for visualizing correlation by dropping non-numeric columns (id, name, artist, release_date and year)."
      ]
    },
    {
      "cell_type": "code",
      "metadata": {
        "id": "F1XmB2r4HHB-"
      },
      "source": [
        "viz_df = data_df.drop(columns=['id', 'name', 'artists', 'release_date','year'])"
      ],
      "execution_count": 149,
      "outputs": []
    },
    {
      "cell_type": "code",
      "metadata": {
        "colab": {
          "base_uri": "https://localhost:8080/",
          "height": 574
        },
        "id": "rYPxQEdTHHB_",
        "outputId": "b20f71b4-d5f4-4726-debd-95df38e99374"
      },
      "source": [
        "# correlation\n",
        "corr = viz_df.corr()\n",
        "# show visualization\n",
        "plt.figure(figsize=(20,8))\n",
        "sns.heatmap(corr, square=True, annot=True, fmt='.1f', cmap='coolwarm', vmax=1, vmin=-1)\n",
        "plt.show()"
      ],
      "execution_count": 150,
      "outputs": [
        {
          "output_type": "display_data",
          "data": {
            "image/png": "[encoded data removed]",
            "text/plain": [
              "<Figure size 1440x576 with 2 Axes>"
            ]
          },
          "metadata": {
            "tags": [],
            "needs_background": "light"
          }
        }
      ]
    },
    {
      "cell_type": "markdown",
      "metadata": {
        "id": "g0SoPXbXHHCA"
      },
      "source": [
        "We can see that loudness and energy are **positively high correlated**, while accousticness and energy are **negatively high correlated**."
      ]
    },
    {
      "cell_type": "markdown",
      "metadata": {
        "id": "cEKCwVaRHHCA"
      },
      "source": [
        "Create dataframe for visualizing top 10 artists who have most songs from 1921 to 2020."
      ]
    },
    {
      "cell_type": "code",
      "metadata": {
        "colab": {
          "base_uri": "https://localhost:8080/",
          "height": 347
        },
        "id": "VDFxJztYHHCB",
        "outputId": "f3c85f95-8a14-44a3-ed6f-0fbbb8fc87e3"
      },
      "source": [
        "#top_10_artists with most songs\n",
        "top_10_artists = pd.DataFrame({'Total songs':data_df['artists'].value_counts().head(10)})\n",
        "top_10_artists"
      ],
      "execution_count": 151,
      "outputs": [
        {
          "output_type": "execute_result",
          "data": {
            "text/html": [
              "<div>\n",
              "<style scoped>\n",
              "    .dataframe tbody tr th:only-of-type {\n",
              "        vertical-align: middle;\n",
              "    }\n",
              "\n",
              "    .dataframe tbody tr th {\n",
              "        vertical-align: top;\n",
              "    }\n",
              "\n",
              "    .dataframe thead th {\n",
              "        text-align: right;\n",
              "    }\n",
              "</style>\n",
              "<table border=\"1\" class=\"dataframe\">\n",
              "  <thead>\n",
              "    <tr style=\"text-align: right;\">\n",
              "      <th></th>\n",
              "      <th>Total songs</th>\n",
              "    </tr>\n",
              "  </thead>\n",
              "  <tbody>\n",
              "    <tr>\n",
              "      <th>Tadeusz Dolega Mostowicz</th>\n",
              "      <td>1281</td>\n",
              "    </tr>\n",
              "    <tr>\n",
              "      <th>Эрнест Хемингуэй</th>\n",
              "      <td>1175</td>\n",
              "    </tr>\n",
              "    <tr>\n",
              "      <th>Эрих Мария Ремарк</th>\n",
              "      <td>1062</td>\n",
              "    </tr>\n",
              "    <tr>\n",
              "      <th>Francisco Canaro</th>\n",
              "      <td>951</td>\n",
              "    </tr>\n",
              "    <tr>\n",
              "      <th>Ignacio Corsini</th>\n",
              "      <td>624</td>\n",
              "    </tr>\n",
              "    <tr>\n",
              "      <th>Frank Sinatra</th>\n",
              "      <td>621</td>\n",
              "    </tr>\n",
              "    <tr>\n",
              "      <th>Elvis Presley</th>\n",
              "      <td>494</td>\n",
              "    </tr>\n",
              "    <tr>\n",
              "      <th>Bob Dylan</th>\n",
              "      <td>459</td>\n",
              "    </tr>\n",
              "    <tr>\n",
              "      <th>Francisco Canaro, Charlo</th>\n",
              "      <td>456</td>\n",
              "    </tr>\n",
              "    <tr>\n",
              "      <th>Johnny Cash</th>\n",
              "      <td>456</td>\n",
              "    </tr>\n",
              "  </tbody>\n",
              "</table>\n",
              "</div>"
            ],
            "text/plain": [
              "                          Total songs\n",
              "Tadeusz Dolega Mostowicz         1281\n",
              "Эрнест Хемингуэй                 1175\n",
              "Эрих Мария Ремарк                1062\n",
              "Francisco Canaro                  951\n",
              "Ignacio Corsini                   624\n",
              "Frank Sinatra                     621\n",
              "Elvis Presley                     494\n",
              "Bob Dylan                         459\n",
              "Francisco Canaro, Charlo          456\n",
              "Johnny Cash                       456"
            ]
          },
          "metadata": {
            "tags": []
          },
          "execution_count": 151
        }
      ]
    },
    {
      "cell_type": "markdown",
      "metadata": {
        "id": "DGdXt7AmHHCB"
      },
      "source": [
        "then visualize it."
      ]
    },
    {
      "cell_type": "code",
      "metadata": {
        "colab": {
          "base_uri": "https://localhost:8080/",
          "height": 455
        },
        "id": "Ly-sqn3AHHCC",
        "outputId": "cd0866ce-f775-4e4b-c918-d358f2b9abaf"
      },
      "source": [
        "top_10_artists.plot.bar(color='lightblue')\n",
        "plt.title('Top 10 Artists with Most Songs')\n",
        "plt.xlabel('Artists')\n",
        "plt.ylabel('Total Song')"
      ],
      "execution_count": 152,
      "outputs": [
        {
          "output_type": "execute_result",
          "data": {
            "text/plain": [
              "Text(0, 0.5, 'Total Song')"
            ]
          },
          "metadata": {
            "tags": []
          },
          "execution_count": 152
        },
        {
          "output_type": "display_data",
          "data": {
            "image/png": "[encoded data removed]",
            "text/plain": [
              "<Figure size 432x288 with 1 Axes>"
            ]
          },
          "metadata": {
            "tags": [],
            "needs_background": "light"
          }
        }
      ]
    },
    {
      "cell_type": "markdown",
      "metadata": {
        "id": "uc5pybN0HHCD"
      },
      "source": [
        "Next, let's see top 20 artist with most popular song."
      ]
    },
    {
      "cell_type": "code",
      "metadata": {
        "colab": {
          "base_uri": "https://localhost:8080/",
          "height": 677
        },
        "id": "kp31aKR5HHCD",
        "outputId": "b462dcfc-22a8-4819-929d-9b8aeb021e58"
      },
      "source": [
        "# top 20 artists with most popular song\n",
        "# data_df[['artists','name','popularity']]\n",
        "top_20_artists = data_df.groupby(['artists'])[['popularity']].sum().sort_values(by=['popularity'],ascending=False)[:20]\n",
        "top_20_artists"
      ],
      "execution_count": 153,
      "outputs": [
        {
          "output_type": "execute_result",
          "data": {
            "text/html": [
              "<div>\n",
              "<style scoped>\n",
              "    .dataframe tbody tr th:only-of-type {\n",
              "        vertical-align: middle;\n",
              "    }\n",
              "\n",
              "    .dataframe tbody tr th {\n",
              "        vertical-align: top;\n",
              "    }\n",
              "\n",
              "    .dataframe thead th {\n",
              "        text-align: right;\n",
              "    }\n",
              "</style>\n",
              "<table border=\"1\" class=\"dataframe\">\n",
              "  <thead>\n",
              "    <tr style=\"text-align: right;\">\n",
              "      <th></th>\n",
              "      <th>popularity</th>\n",
              "    </tr>\n",
              "    <tr>\n",
              "      <th>artists</th>\n",
              "      <th></th>\n",
              "    </tr>\n",
              "  </thead>\n",
              "  <tbody>\n",
              "    <tr>\n",
              "      <th>The Beatles</th>\n",
              "      <td>19110</td>\n",
              "    </tr>\n",
              "    <tr>\n",
              "      <th>Frank Sinatra</th>\n",
              "      <td>17434</td>\n",
              "    </tr>\n",
              "    <tr>\n",
              "      <th>Elvis Presley</th>\n",
              "      <td>16998</td>\n",
              "    </tr>\n",
              "    <tr>\n",
              "      <th>Fleetwood Mac</th>\n",
              "      <td>15927</td>\n",
              "    </tr>\n",
              "    <tr>\n",
              "      <th>The Rolling Stones</th>\n",
              "      <td>15817</td>\n",
              "    </tr>\n",
              "    <tr>\n",
              "      <th>Bob Dylan</th>\n",
              "      <td>14057</td>\n",
              "    </tr>\n",
              "    <tr>\n",
              "      <th>Led Zeppelin</th>\n",
              "      <td>12823</td>\n",
              "    </tr>\n",
              "    <tr>\n",
              "      <th>Taylor Swift</th>\n",
              "      <td>12697</td>\n",
              "    </tr>\n",
              "    <tr>\n",
              "      <th>Queen</th>\n",
              "      <td>12450</td>\n",
              "    </tr>\n",
              "    <tr>\n",
              "      <th>Johnny Cash</th>\n",
              "      <td>12011</td>\n",
              "    </tr>\n",
              "    <tr>\n",
              "      <th>The Beach Boys</th>\n",
              "      <td>11520</td>\n",
              "    </tr>\n",
              "    <tr>\n",
              "      <th>Bob Marley &amp; The Wailers</th>\n",
              "      <td>10986</td>\n",
              "    </tr>\n",
              "    <tr>\n",
              "      <th>David Bowie</th>\n",
              "      <td>10934</td>\n",
              "    </tr>\n",
              "    <tr>\n",
              "      <th>Pink Floyd</th>\n",
              "      <td>10731</td>\n",
              "    </tr>\n",
              "    <tr>\n",
              "      <th>Vicente Fernández</th>\n",
              "      <td>9592</td>\n",
              "    </tr>\n",
              "    <tr>\n",
              "      <th>Elton John</th>\n",
              "      <td>9139</td>\n",
              "    </tr>\n",
              "    <tr>\n",
              "      <th>Miles Davis</th>\n",
              "      <td>8963</td>\n",
              "    </tr>\n",
              "    <tr>\n",
              "      <th>Ella Fitzgerald</th>\n",
              "      <td>8659</td>\n",
              "    </tr>\n",
              "    <tr>\n",
              "      <th>Dean Martin</th>\n",
              "      <td>8636</td>\n",
              "    </tr>\n",
              "    <tr>\n",
              "      <th>Metallica</th>\n",
              "      <td>8533</td>\n",
              "    </tr>\n",
              "  </tbody>\n",
              "</table>\n",
              "</div>"
            ],
            "text/plain": [
              "                          popularity\n",
              "artists                             \n",
              "The Beatles                    19110\n",
              "Frank Sinatra                  17434\n",
              "Elvis Presley                  16998\n",
              "Fleetwood Mac                  15927\n",
              "The Rolling Stones             15817\n",
              "Bob Dylan                      14057\n",
              "Led Zeppelin                   12823\n",
              "Taylor Swift                   12697\n",
              "Queen                          12450\n",
              "Johnny Cash                    12011\n",
              "The Beach Boys                 11520\n",
              "Bob Marley & The Wailers       10986\n",
              "David Bowie                    10934\n",
              "Pink Floyd                     10731\n",
              "Vicente Fernández               9592\n",
              "Elton John                      9139\n",
              "Miles Davis                     8963\n",
              "Ella Fitzgerald                 8659\n",
              "Dean Martin                     8636\n",
              "Metallica                       8533"
            ]
          },
          "metadata": {
            "tags": []
          },
          "execution_count": 153
        }
      ]
    },
    {
      "cell_type": "code",
      "metadata": {
        "colab": {
          "base_uri": "https://localhost:8080/",
          "height": 318
        },
        "id": "x938pr0iHHCE",
        "outputId": "d38692b4-3363-439c-9504-408102744e21"
      },
      "source": [
        "top_20_artists.plot.barh(color='lightpink')\n",
        "plt.xlabel(\"Total song popularity\")\n",
        "plt.title(\"Top 20 artists with most popular song\")"
      ],
      "execution_count": 154,
      "outputs": [
        {
          "output_type": "execute_result",
          "data": {
            "text/plain": [
              "Text(0.5, 1.0, 'Top 20 artists with most popular song')"
            ]
          },
          "metadata": {
            "tags": []
          },
          "execution_count": 154
        },
        {
          "output_type": "display_data",
          "data": {
            "image/png": "[encoded data removed]",
            "text/plain": [
              "<Figure size 432x288 with 1 Axes>"
            ]
          },
          "metadata": {
            "tags": [],
            "needs_background": "light"
          }
        }
      ]
    },
    {
      "cell_type": "markdown",
      "metadata": {
        "id": "No8Dm5h1HHCE"
      },
      "source": [
        "See one of the artist's popularity in years"
      ]
    },
    {
      "cell_type": "code",
      "metadata": {
        "colab": {
          "base_uri": "https://localhost:8080/",
          "height": 367
        },
        "id": "qlDIdPisHHCF",
        "outputId": "bceae73d-3afa-4ea6-ca76-08b99a3c5711"
      },
      "source": [
        "taylorswift = data_df[data_df['artists']=='Taylor Swift']\n",
        "taylorswift.head()"
      ],
      "execution_count": 155,
      "outputs": [
        {
          "output_type": "execute_result",
          "data": {
            "text/html": [
              "<div>\n",
              "<style scoped>\n",
              "    .dataframe tbody tr th:only-of-type {\n",
              "        vertical-align: middle;\n",
              "    }\n",
              "\n",
              "    .dataframe tbody tr th {\n",
              "        vertical-align: top;\n",
              "    }\n",
              "\n",
              "    .dataframe thead th {\n",
              "        text-align: right;\n",
              "    }\n",
              "</style>\n",
              "<table border=\"1\" class=\"dataframe\">\n",
              "  <thead>\n",
              "    <tr style=\"text-align: right;\">\n",
              "      <th></th>\n",
              "      <th>acousticness</th>\n",
              "      <th>artists</th>\n",
              "      <th>danceability</th>\n",
              "      <th>duration_ms</th>\n",
              "      <th>energy</th>\n",
              "      <th>explicit</th>\n",
              "      <th>id</th>\n",
              "      <th>instrumentalness</th>\n",
              "      <th>key</th>\n",
              "      <th>liveness</th>\n",
              "      <th>loudness</th>\n",
              "      <th>mode</th>\n",
              "      <th>name</th>\n",
              "      <th>popularity</th>\n",
              "      <th>release_date</th>\n",
              "      <th>speechiness</th>\n",
              "      <th>tempo</th>\n",
              "      <th>valence</th>\n",
              "      <th>year</th>\n",
              "    </tr>\n",
              "  </thead>\n",
              "  <tbody>\n",
              "    <tr>\n",
              "      <th>17126</th>\n",
              "      <td>0.1110</td>\n",
              "      <td>Taylor Swift</td>\n",
              "      <td>0.668</td>\n",
              "      <td>201107</td>\n",
              "      <td>0.672</td>\n",
              "      <td>0</td>\n",
              "      <td>15DeqWWQB4dcEWzJg15VrN</td>\n",
              "      <td>0.0</td>\n",
              "      <td>2</td>\n",
              "      <td>0.3290</td>\n",
              "      <td>-4.931</td>\n",
              "      <td>1</td>\n",
              "      <td>Our Song</td>\n",
              "      <td>66</td>\n",
              "      <td>2006-10-24</td>\n",
              "      <td>0.0303</td>\n",
              "      <td>89.011</td>\n",
              "      <td>0.539</td>\n",
              "      <td>2006</td>\n",
              "    </tr>\n",
              "    <tr>\n",
              "      <th>17182</th>\n",
              "      <td>0.2880</td>\n",
              "      <td>Taylor Swift</td>\n",
              "      <td>0.621</td>\n",
              "      <td>203040</td>\n",
              "      <td>0.417</td>\n",
              "      <td>0</td>\n",
              "      <td>7zMcNqs55Mxer82bvZFkpg</td>\n",
              "      <td>0.0</td>\n",
              "      <td>10</td>\n",
              "      <td>0.1190</td>\n",
              "      <td>-6.941</td>\n",
              "      <td>1</td>\n",
              "      <td>Teardrops On My Guitar - Radio Single Remix</td>\n",
              "      <td>63</td>\n",
              "      <td>2006-10-24</td>\n",
              "      <td>0.0231</td>\n",
              "      <td>99.953</td>\n",
              "      <td>0.289</td>\n",
              "      <td>2006</td>\n",
              "    </tr>\n",
              "    <tr>\n",
              "      <th>17202</th>\n",
              "      <td>0.1730</td>\n",
              "      <td>Taylor Swift</td>\n",
              "      <td>0.658</td>\n",
              "      <td>173067</td>\n",
              "      <td>0.877</td>\n",
              "      <td>0</td>\n",
              "      <td>32mVHdy0bi1XKgr0ajsBlG</td>\n",
              "      <td>0.0</td>\n",
              "      <td>7</td>\n",
              "      <td>0.0962</td>\n",
              "      <td>-2.098</td>\n",
              "      <td>1</td>\n",
              "      <td>Picture To Burn</td>\n",
              "      <td>62</td>\n",
              "      <td>2006-10-24</td>\n",
              "      <td>0.0323</td>\n",
              "      <td>105.586</td>\n",
              "      <td>0.821</td>\n",
              "      <td>2006</td>\n",
              "    </tr>\n",
              "    <tr>\n",
              "      <th>17238</th>\n",
              "      <td>0.5750</td>\n",
              "      <td>Taylor Swift</td>\n",
              "      <td>0.580</td>\n",
              "      <td>232107</td>\n",
              "      <td>0.491</td>\n",
              "      <td>0</td>\n",
              "      <td>0Om9WAB5RS09L80DyOfTNa</td>\n",
              "      <td>0.0</td>\n",
              "      <td>0</td>\n",
              "      <td>0.1210</td>\n",
              "      <td>-6.462</td>\n",
              "      <td>1</td>\n",
              "      <td>Tim McGraw</td>\n",
              "      <td>61</td>\n",
              "      <td>2006-10-24</td>\n",
              "      <td>0.0251</td>\n",
              "      <td>76.009</td>\n",
              "      <td>0.425</td>\n",
              "      <td>2006</td>\n",
              "    </tr>\n",
              "    <tr>\n",
              "      <th>17250</th>\n",
              "      <td>0.0103</td>\n",
              "      <td>Taylor Swift</td>\n",
              "      <td>0.476</td>\n",
              "      <td>242200</td>\n",
              "      <td>0.777</td>\n",
              "      <td>0</td>\n",
              "      <td>16MVSD0mGI4RMQT83Qzm69</td>\n",
              "      <td>0.0</td>\n",
              "      <td>4</td>\n",
              "      <td>0.1960</td>\n",
              "      <td>-3.771</td>\n",
              "      <td>0</td>\n",
              "      <td>Should've Said No</td>\n",
              "      <td>61</td>\n",
              "      <td>2006-10-24</td>\n",
              "      <td>0.0289</td>\n",
              "      <td>167.964</td>\n",
              "      <td>0.472</td>\n",
              "      <td>2006</td>\n",
              "    </tr>\n",
              "  </tbody>\n",
              "</table>\n",
              "</div>"
            ],
            "text/plain": [
              "       acousticness       artists  danceability  ...    tempo  valence  year\n",
              "17126        0.1110  Taylor Swift         0.668  ...   89.011    0.539  2006\n",
              "17182        0.2880  Taylor Swift         0.621  ...   99.953    0.289  2006\n",
              "17202        0.1730  Taylor Swift         0.658  ...  105.586    0.821  2006\n",
              "17238        0.5750  Taylor Swift         0.580  ...   76.009    0.425  2006\n",
              "17250        0.0103  Taylor Swift         0.476  ...  167.964    0.472  2006\n",
              "\n",
              "[5 rows x 19 columns]"
            ]
          },
          "metadata": {
            "tags": []
          },
          "execution_count": 155
        }
      ]
    },
    {
      "cell_type": "code",
      "metadata": {
        "colab": {
          "base_uri": "https://localhost:8080/",
          "height": 318
        },
        "id": "dGvrjGBAHHCG",
        "outputId": "ca56ed13-ccd7-41f8-e7fc-d0e0f21f755f"
      },
      "source": [
        "sns.set(style='darkgrid')\n",
        "sns.lineplot(x='release_date', y='popularity', data=taylorswift)\n",
        "plt.title(\"Taylor Swift Popularity\")\n",
        "plt.xlabel(\"Year\")"
      ],
      "execution_count": 156,
      "outputs": [
        {
          "output_type": "execute_result",
          "data": {
            "text/plain": [
              "Text(0.5, 0, 'Year')"
            ]
          },
          "metadata": {
            "tags": []
          },
          "execution_count": 156
        },
        {
          "output_type": "display_data",
          "data": {
            "image/png": "[encoded data removed]",
            "text/plain": [
              "<Figure size 432x288 with 1 Axes>"
            ]
          },
          "metadata": {
            "tags": []
          }
        }
      ]
    },
    {
      "cell_type": "markdown",
      "metadata": {
        "id": "Adl_YhxdHHCG"
      },
      "source": [
        "# Feature Engineering"
      ]
    },
    {
      "cell_type": "code",
      "metadata": {
        "colab": {
          "base_uri": "https://localhost:8080/",
          "height": 401
        },
        "id": "8KG84q1mHHCH",
        "outputId": "11404ff1-9aeb-4c9d-ba8d-8b1111d8d3ba"
      },
      "source": [
        "data_df.head()"
      ],
      "execution_count": 157,
      "outputs": [
        {
          "output_type": "execute_result",
          "data": {
            "text/html": [
              "<div>\n",
              "<style scoped>\n",
              "    .dataframe tbody tr th:only-of-type {\n",
              "        vertical-align: middle;\n",
              "    }\n",
              "\n",
              "    .dataframe tbody tr th {\n",
              "        vertical-align: top;\n",
              "    }\n",
              "\n",
              "    .dataframe thead th {\n",
              "        text-align: right;\n",
              "    }\n",
              "</style>\n",
              "<table border=\"1\" class=\"dataframe\">\n",
              "  <thead>\n",
              "    <tr style=\"text-align: right;\">\n",
              "      <th></th>\n",
              "      <th>acousticness</th>\n",
              "      <th>artists</th>\n",
              "      <th>danceability</th>\n",
              "      <th>duration_ms</th>\n",
              "      <th>energy</th>\n",
              "      <th>explicit</th>\n",
              "      <th>id</th>\n",
              "      <th>instrumentalness</th>\n",
              "      <th>key</th>\n",
              "      <th>liveness</th>\n",
              "      <th>loudness</th>\n",
              "      <th>mode</th>\n",
              "      <th>name</th>\n",
              "      <th>popularity</th>\n",
              "      <th>release_date</th>\n",
              "      <th>speechiness</th>\n",
              "      <th>tempo</th>\n",
              "      <th>valence</th>\n",
              "      <th>year</th>\n",
              "    </tr>\n",
              "  </thead>\n",
              "  <tbody>\n",
              "    <tr>\n",
              "      <th>0</th>\n",
              "      <td>0.991000</td>\n",
              "      <td>Mamie Smith</td>\n",
              "      <td>0.598</td>\n",
              "      <td>168333</td>\n",
              "      <td>0.224</td>\n",
              "      <td>0</td>\n",
              "      <td>0cS0A1fUEUd1EW3FcF8AEI</td>\n",
              "      <td>0.000522</td>\n",
              "      <td>5</td>\n",
              "      <td>0.3790</td>\n",
              "      <td>-12.628</td>\n",
              "      <td>0</td>\n",
              "      <td>Keep A Song In Your Soul</td>\n",
              "      <td>12</td>\n",
              "      <td>1920-01-01</td>\n",
              "      <td>0.0936</td>\n",
              "      <td>149.976</td>\n",
              "      <td>0.6340</td>\n",
              "      <td>1920</td>\n",
              "    </tr>\n",
              "    <tr>\n",
              "      <th>1</th>\n",
              "      <td>0.643000</td>\n",
              "      <td>Screamin Jay Hawkins</td>\n",
              "      <td>0.852</td>\n",
              "      <td>150200</td>\n",
              "      <td>0.517</td>\n",
              "      <td>0</td>\n",
              "      <td>0hbkKFIJm7Z05H8Zl9w30f</td>\n",
              "      <td>0.026400</td>\n",
              "      <td>5</td>\n",
              "      <td>0.0809</td>\n",
              "      <td>-7.261</td>\n",
              "      <td>0</td>\n",
              "      <td>I Put A Spell On You</td>\n",
              "      <td>7</td>\n",
              "      <td>1920-01-05</td>\n",
              "      <td>0.0534</td>\n",
              "      <td>86.889</td>\n",
              "      <td>0.9500</td>\n",
              "      <td>1920</td>\n",
              "    </tr>\n",
              "    <tr>\n",
              "      <th>2</th>\n",
              "      <td>0.993000</td>\n",
              "      <td>Mamie Smith</td>\n",
              "      <td>0.647</td>\n",
              "      <td>163827</td>\n",
              "      <td>0.186</td>\n",
              "      <td>0</td>\n",
              "      <td>11m7laMUgmOKqI3oYzuhne</td>\n",
              "      <td>0.000018</td>\n",
              "      <td>0</td>\n",
              "      <td>0.5190</td>\n",
              "      <td>-12.098</td>\n",
              "      <td>1</td>\n",
              "      <td>Golfing Papa</td>\n",
              "      <td>4</td>\n",
              "      <td>1920-01-01</td>\n",
              "      <td>0.1740</td>\n",
              "      <td>97.600</td>\n",
              "      <td>0.6890</td>\n",
              "      <td>1920</td>\n",
              "    </tr>\n",
              "    <tr>\n",
              "      <th>3</th>\n",
              "      <td>0.000173</td>\n",
              "      <td>Oscar Velazquez</td>\n",
              "      <td>0.730</td>\n",
              "      <td>422087</td>\n",
              "      <td>0.798</td>\n",
              "      <td>0</td>\n",
              "      <td>19Lc5SfJJ5O1oaxY0fpwfh</td>\n",
              "      <td>0.801000</td>\n",
              "      <td>2</td>\n",
              "      <td>0.1280</td>\n",
              "      <td>-7.311</td>\n",
              "      <td>1</td>\n",
              "      <td>True House Music - Xavier Santos &amp; Carlos Gomi...</td>\n",
              "      <td>17</td>\n",
              "      <td>1920-01-01</td>\n",
              "      <td>0.0425</td>\n",
              "      <td>127.997</td>\n",
              "      <td>0.0422</td>\n",
              "      <td>1920</td>\n",
              "    </tr>\n",
              "    <tr>\n",
              "      <th>4</th>\n",
              "      <td>0.295000</td>\n",
              "      <td>Mixe</td>\n",
              "      <td>0.704</td>\n",
              "      <td>165224</td>\n",
              "      <td>0.707</td>\n",
              "      <td>1</td>\n",
              "      <td>2hJjbsLCytGsnAHfdsLejp</td>\n",
              "      <td>0.000246</td>\n",
              "      <td>10</td>\n",
              "      <td>0.4020</td>\n",
              "      <td>-6.036</td>\n",
              "      <td>0</td>\n",
              "      <td>Xuniverxe</td>\n",
              "      <td>2</td>\n",
              "      <td>1920-10-01</td>\n",
              "      <td>0.0768</td>\n",
              "      <td>122.076</td>\n",
              "      <td>0.2990</td>\n",
              "      <td>1920</td>\n",
              "    </tr>\n",
              "  </tbody>\n",
              "</table>\n",
              "</div>"
            ],
            "text/plain": [
              "   acousticness               artists  danceability  ...    tempo  valence  year\n",
              "0      0.991000           Mamie Smith         0.598  ...  149.976   0.6340  1920\n",
              "1      0.643000  Screamin Jay Hawkins         0.852  ...   86.889   0.9500  1920\n",
              "2      0.993000           Mamie Smith         0.647  ...   97.600   0.6890  1920\n",
              "3      0.000173       Oscar Velazquez         0.730  ...  127.997   0.0422  1920\n",
              "4      0.295000                  Mixe         0.704  ...  122.076   0.2990  1920\n",
              "\n",
              "[5 rows x 19 columns]"
            ]
          },
          "metadata": {
            "tags": []
          },
          "execution_count": 157
        }
      ]
    },
    {
      "cell_type": "markdown",
      "metadata": {
        "id": "x2tSPYxVH_vw"
      },
      "source": [
        "numerical column such as loudness and tempo are not yet normalize"
      ]
    },
    {
      "cell_type": "code",
      "metadata": {
        "colab": {
          "base_uri": "https://localhost:8080/"
        },
        "id": "6gzr_bRRHHCH",
        "outputId": "afb67dc7-09b7-494e-f51c-dcd691916fdb"
      },
      "source": [
        "data_df.info()"
      ],
      "execution_count": 158,
      "outputs": [
        {
          "output_type": "stream",
          "text": [
            "<class 'pandas.core.frame.DataFrame'>\n",
            "RangeIndex: 174389 entries, 0 to 174388\n",
            "Data columns (total 19 columns):\n",
            " #   Column            Non-Null Count   Dtype         \n",
            "---  ------            --------------   -----         \n",
            " 0   acousticness      174389 non-null  float64       \n",
            " 1   artists           174389 non-null  object        \n",
            " 2   danceability      174389 non-null  float64       \n",
            " 3   duration_ms       174389 non-null  int64         \n",
            " 4   energy            174389 non-null  float64       \n",
            " 5   explicit          174389 non-null  int64         \n",
            " 6   id                174389 non-null  object        \n",
            " 7   instrumentalness  174389 non-null  float64       \n",
            " 8   key               174389 non-null  int64         \n",
            " 9   liveness          174389 non-null  float64       \n",
            " 10  loudness          174389 non-null  float64       \n",
            " 11  mode              174389 non-null  int64         \n",
            " 12  name              174389 non-null  object        \n",
            " 13  popularity        174389 non-null  int64         \n",
            " 14  release_date      174389 non-null  datetime64[ns]\n",
            " 15  speechiness       174389 non-null  float64       \n",
            " 16  tempo             174389 non-null  float64       \n",
            " 17  valence           174389 non-null  float64       \n",
            " 18  year              174389 non-null  int64         \n",
            "dtypes: datetime64[ns](1), float64(9), int64(6), object(3)\n",
            "memory usage: 25.3+ MB\n"
          ],
          "name": "stdout"
        }
      ]
    },
    {
      "cell_type": "markdown",
      "metadata": {
        "id": "YYw3bC_xHHCI"
      },
      "source": [
        "Normalize numerical data using below function, exclude the year column."
      ]
    },
    {
      "cell_type": "markdown",
      "metadata": {
        "id": "utHJObjYHHCI"
      },
      "source": [
        "![Normalization Function](https://cdn.journaldev.com/wp-content/uploads/2020/10/Normalization.png)\r\n",
        "\r\n",
        "source: https://www.journaldev.com/45109/normalize-data-in-python"
      ]
    },
    {
      "cell_type": "code",
      "metadata": {
        "id": "JMLvLIHpHHCJ"
      },
      "source": [
        "def normalize_col(col):\n",
        "    min_data = data_df[col].min()\n",
        "    max_data = data_df[col].max()\n",
        "    data_df[col] = (data_df[col]-min_data)/(max_data-min_data)"
      ],
      "execution_count": 159,
      "outputs": []
    },
    {
      "cell_type": "code",
      "metadata": {
        "colab": {
          "base_uri": "https://localhost:8080/"
        },
        "id": "hkIvs2ryHHCJ",
        "outputId": "1b34a3de-b0ee-4c38-a87f-bf9a75945ec6"
      },
      "source": [
        "num_col = ['int64', 'float64']\n",
        "num_df = data_df.select_dtypes(include=num_col).drop('year', axis=1)\n",
        "num_df.info()"
      ],
      "execution_count": 160,
      "outputs": [
        {
          "output_type": "stream",
          "text": [
            "<class 'pandas.core.frame.DataFrame'>\n",
            "RangeIndex: 174389 entries, 0 to 174388\n",
            "Data columns (total 14 columns):\n",
            " #   Column            Non-Null Count   Dtype  \n",
            "---  ------            --------------   -----  \n",
            " 0   acousticness      174389 non-null  float64\n",
            " 1   danceability      174389 non-null  float64\n",
            " 2   duration_ms       174389 non-null  int64  \n",
            " 3   energy            174389 non-null  float64\n",
            " 4   explicit          174389 non-null  int64  \n",
            " 5   instrumentalness  174389 non-null  float64\n",
            " 6   key               174389 non-null  int64  \n",
            " 7   liveness          174389 non-null  float64\n",
            " 8   loudness          174389 non-null  float64\n",
            " 9   mode              174389 non-null  int64  \n",
            " 10  popularity        174389 non-null  int64  \n",
            " 11  speechiness       174389 non-null  float64\n",
            " 12  tempo             174389 non-null  float64\n",
            " 13  valence           174389 non-null  float64\n",
            "dtypes: float64(9), int64(5)\n",
            "memory usage: 18.6 MB\n"
          ],
          "name": "stdout"
        }
      ]
    },
    {
      "cell_type": "code",
      "metadata": {
        "id": "xzd_o48vHHCK"
      },
      "source": [
        "for col in num_df.columns:\n",
        "    normalize_col(col)"
      ],
      "execution_count": 161,
      "outputs": []
    },
    {
      "cell_type": "code",
      "metadata": {
        "colab": {
          "base_uri": "https://localhost:8080/",
          "height": 401
        },
        "id": "bfmpr3EnHHCK",
        "outputId": "f6941e33-69d5-4148-c712-c6cabd1bd26a"
      },
      "source": [
        "data_df.head()"
      ],
      "execution_count": 162,
      "outputs": [
        {
          "output_type": "execute_result",
          "data": {
            "text/html": [
              "<div>\n",
              "<style scoped>\n",
              "    .dataframe tbody tr th:only-of-type {\n",
              "        vertical-align: middle;\n",
              "    }\n",
              "\n",
              "    .dataframe tbody tr th {\n",
              "        vertical-align: top;\n",
              "    }\n",
              "\n",
              "    .dataframe thead th {\n",
              "        text-align: right;\n",
              "    }\n",
              "</style>\n",
              "<table border=\"1\" class=\"dataframe\">\n",
              "  <thead>\n",
              "    <tr style=\"text-align: right;\">\n",
              "      <th></th>\n",
              "      <th>acousticness</th>\n",
              "      <th>artists</th>\n",
              "      <th>danceability</th>\n",
              "      <th>duration_ms</th>\n",
              "      <th>energy</th>\n",
              "      <th>explicit</th>\n",
              "      <th>id</th>\n",
              "      <th>instrumentalness</th>\n",
              "      <th>key</th>\n",
              "      <th>liveness</th>\n",
              "      <th>loudness</th>\n",
              "      <th>mode</th>\n",
              "      <th>name</th>\n",
              "      <th>popularity</th>\n",
              "      <th>release_date</th>\n",
              "      <th>speechiness</th>\n",
              "      <th>tempo</th>\n",
              "      <th>valence</th>\n",
              "      <th>year</th>\n",
              "    </tr>\n",
              "  </thead>\n",
              "  <tbody>\n",
              "    <tr>\n",
              "      <th>0</th>\n",
              "      <td>0.994980</td>\n",
              "      <td>Mamie Smith</td>\n",
              "      <td>0.605263</td>\n",
              "      <td>0.030637</td>\n",
              "      <td>0.224</td>\n",
              "      <td>0.0</td>\n",
              "      <td>0cS0A1fUEUd1EW3FcF8AEI</td>\n",
              "      <td>0.000522</td>\n",
              "      <td>0.454545</td>\n",
              "      <td>0.3790</td>\n",
              "      <td>0.741868</td>\n",
              "      <td>0.0</td>\n",
              "      <td>Keep A Song In Your Soul</td>\n",
              "      <td>0.12</td>\n",
              "      <td>1920-01-01</td>\n",
              "      <td>0.096395</td>\n",
              "      <td>0.615900</td>\n",
              "      <td>0.6340</td>\n",
              "      <td>1920</td>\n",
              "    </tr>\n",
              "    <tr>\n",
              "      <th>1</th>\n",
              "      <td>0.645582</td>\n",
              "      <td>Screamin Jay Hawkins</td>\n",
              "      <td>0.862348</td>\n",
              "      <td>0.027237</td>\n",
              "      <td>0.517</td>\n",
              "      <td>0.0</td>\n",
              "      <td>0hbkKFIJm7Z05H8Zl9w30f</td>\n",
              "      <td>0.026400</td>\n",
              "      <td>0.454545</td>\n",
              "      <td>0.0809</td>\n",
              "      <td>0.825918</td>\n",
              "      <td>0.0</td>\n",
              "      <td>I Put A Spell On You</td>\n",
              "      <td>0.07</td>\n",
              "      <td>1920-01-05</td>\n",
              "      <td>0.054995</td>\n",
              "      <td>0.356823</td>\n",
              "      <td>0.9500</td>\n",
              "      <td>1920</td>\n",
              "    </tr>\n",
              "    <tr>\n",
              "      <th>2</th>\n",
              "      <td>0.996988</td>\n",
              "      <td>Mamie Smith</td>\n",
              "      <td>0.654858</td>\n",
              "      <td>0.029792</td>\n",
              "      <td>0.186</td>\n",
              "      <td>0.0</td>\n",
              "      <td>11m7laMUgmOKqI3oYzuhne</td>\n",
              "      <td>0.000018</td>\n",
              "      <td>0.000000</td>\n",
              "      <td>0.5190</td>\n",
              "      <td>0.750168</td>\n",
              "      <td>1.0</td>\n",
              "      <td>Golfing Papa</td>\n",
              "      <td>0.04</td>\n",
              "      <td>1920-01-01</td>\n",
              "      <td>0.179197</td>\n",
              "      <td>0.400810</td>\n",
              "      <td>0.6890</td>\n",
              "      <td>1920</td>\n",
              "    </tr>\n",
              "    <tr>\n",
              "      <th>3</th>\n",
              "      <td>0.000174</td>\n",
              "      <td>Oscar Velazquez</td>\n",
              "      <td>0.738866</td>\n",
              "      <td>0.078215</td>\n",
              "      <td>0.798</td>\n",
              "      <td>0.0</td>\n",
              "      <td>19Lc5SfJJ5O1oaxY0fpwfh</td>\n",
              "      <td>0.801000</td>\n",
              "      <td>0.181818</td>\n",
              "      <td>0.1280</td>\n",
              "      <td>0.825135</td>\n",
              "      <td>1.0</td>\n",
              "      <td>True House Music - Xavier Santos &amp; Carlos Gomi...</td>\n",
              "      <td>0.17</td>\n",
              "      <td>1920-01-01</td>\n",
              "      <td>0.043769</td>\n",
              "      <td>0.525640</td>\n",
              "      <td>0.0422</td>\n",
              "      <td>1920</td>\n",
              "    </tr>\n",
              "    <tr>\n",
              "      <th>4</th>\n",
              "      <td>0.296185</td>\n",
              "      <td>Mixe</td>\n",
              "      <td>0.712551</td>\n",
              "      <td>0.030054</td>\n",
              "      <td>0.707</td>\n",
              "      <td>1.0</td>\n",
              "      <td>2hJjbsLCytGsnAHfdsLejp</td>\n",
              "      <td>0.000246</td>\n",
              "      <td>0.909091</td>\n",
              "      <td>0.4020</td>\n",
              "      <td>0.845102</td>\n",
              "      <td>0.0</td>\n",
              "      <td>Xuniverxe</td>\n",
              "      <td>0.02</td>\n",
              "      <td>1920-10-01</td>\n",
              "      <td>0.079094</td>\n",
              "      <td>0.501324</td>\n",
              "      <td>0.2990</td>\n",
              "      <td>1920</td>\n",
              "    </tr>\n",
              "  </tbody>\n",
              "</table>\n",
              "</div>"
            ],
            "text/plain": [
              "   acousticness               artists  danceability  ...     tempo  valence  year\n",
              "0      0.994980           Mamie Smith      0.605263  ...  0.615900   0.6340  1920\n",
              "1      0.645582  Screamin Jay Hawkins      0.862348  ...  0.356823   0.9500  1920\n",
              "2      0.996988           Mamie Smith      0.654858  ...  0.400810   0.6890  1920\n",
              "3      0.000174       Oscar Velazquez      0.738866  ...  0.525640   0.0422  1920\n",
              "4      0.296185                  Mixe      0.712551  ...  0.501324   0.2990  1920\n",
              "\n",
              "[5 rows x 19 columns]"
            ]
          },
          "metadata": {
            "tags": []
          },
          "execution_count": 162
        }
      ]
    },
    {
      "cell_type": "code",
      "metadata": {
        "colab": {
          "base_uri": "https://localhost:8080/",
          "height": 406
        },
        "id": "6BcXU0pQQpaP",
        "outputId": "06ac1d6f-b684-4198-a99b-ee1d8e54e72d"
      },
      "source": [
        "normalized_num_df = data_df.loc[:, [x for x in num_df.columns]]\r\n",
        "normalized_num_df"
      ],
      "execution_count": 163,
      "outputs": [
        {
          "output_type": "execute_result",
          "data": {
            "text/html": [
              "<div>\n",
              "<style scoped>\n",
              "    .dataframe tbody tr th:only-of-type {\n",
              "        vertical-align: middle;\n",
              "    }\n",
              "\n",
              "    .dataframe tbody tr th {\n",
              "        vertical-align: top;\n",
              "    }\n",
              "\n",
              "    .dataframe thead th {\n",
              "        text-align: right;\n",
              "    }\n",
              "</style>\n",
              "<table border=\"1\" class=\"dataframe\">\n",
              "  <thead>\n",
              "    <tr style=\"text-align: right;\">\n",
              "      <th></th>\n",
              "      <th>acousticness</th>\n",
              "      <th>danceability</th>\n",
              "      <th>duration_ms</th>\n",
              "      <th>energy</th>\n",
              "      <th>explicit</th>\n",
              "      <th>instrumentalness</th>\n",
              "      <th>key</th>\n",
              "      <th>liveness</th>\n",
              "      <th>loudness</th>\n",
              "      <th>mode</th>\n",
              "      <th>popularity</th>\n",
              "      <th>speechiness</th>\n",
              "      <th>tempo</th>\n",
              "      <th>valence</th>\n",
              "    </tr>\n",
              "  </thead>\n",
              "  <tbody>\n",
              "    <tr>\n",
              "      <th>0</th>\n",
              "      <td>0.994980</td>\n",
              "      <td>0.605263</td>\n",
              "      <td>0.030637</td>\n",
              "      <td>0.224</td>\n",
              "      <td>0.0</td>\n",
              "      <td>0.000522</td>\n",
              "      <td>0.454545</td>\n",
              "      <td>0.3790</td>\n",
              "      <td>0.741868</td>\n",
              "      <td>0.0</td>\n",
              "      <td>0.12</td>\n",
              "      <td>0.096395</td>\n",
              "      <td>0.615900</td>\n",
              "      <td>0.6340</td>\n",
              "    </tr>\n",
              "    <tr>\n",
              "      <th>1</th>\n",
              "      <td>0.645582</td>\n",
              "      <td>0.862348</td>\n",
              "      <td>0.027237</td>\n",
              "      <td>0.517</td>\n",
              "      <td>0.0</td>\n",
              "      <td>0.026400</td>\n",
              "      <td>0.454545</td>\n",
              "      <td>0.0809</td>\n",
              "      <td>0.825918</td>\n",
              "      <td>0.0</td>\n",
              "      <td>0.07</td>\n",
              "      <td>0.054995</td>\n",
              "      <td>0.356823</td>\n",
              "      <td>0.9500</td>\n",
              "    </tr>\n",
              "    <tr>\n",
              "      <th>2</th>\n",
              "      <td>0.996988</td>\n",
              "      <td>0.654858</td>\n",
              "      <td>0.029792</td>\n",
              "      <td>0.186</td>\n",
              "      <td>0.0</td>\n",
              "      <td>0.000018</td>\n",
              "      <td>0.000000</td>\n",
              "      <td>0.5190</td>\n",
              "      <td>0.750168</td>\n",
              "      <td>1.0</td>\n",
              "      <td>0.04</td>\n",
              "      <td>0.179197</td>\n",
              "      <td>0.400810</td>\n",
              "      <td>0.6890</td>\n",
              "    </tr>\n",
              "    <tr>\n",
              "      <th>3</th>\n",
              "      <td>0.000174</td>\n",
              "      <td>0.738866</td>\n",
              "      <td>0.078215</td>\n",
              "      <td>0.798</td>\n",
              "      <td>0.0</td>\n",
              "      <td>0.801000</td>\n",
              "      <td>0.181818</td>\n",
              "      <td>0.1280</td>\n",
              "      <td>0.825135</td>\n",
              "      <td>1.0</td>\n",
              "      <td>0.17</td>\n",
              "      <td>0.043769</td>\n",
              "      <td>0.525640</td>\n",
              "      <td>0.0422</td>\n",
              "    </tr>\n",
              "    <tr>\n",
              "      <th>4</th>\n",
              "      <td>0.296185</td>\n",
              "      <td>0.712551</td>\n",
              "      <td>0.030054</td>\n",
              "      <td>0.707</td>\n",
              "      <td>1.0</td>\n",
              "      <td>0.000246</td>\n",
              "      <td>0.909091</td>\n",
              "      <td>0.4020</td>\n",
              "      <td>0.845102</td>\n",
              "      <td>0.0</td>\n",
              "      <td>0.02</td>\n",
              "      <td>0.079094</td>\n",
              "      <td>0.501324</td>\n",
              "      <td>0.2990</td>\n",
              "    </tr>\n",
              "    <tr>\n",
              "      <th>...</th>\n",
              "      <td>...</td>\n",
              "      <td>...</td>\n",
              "      <td>...</td>\n",
              "      <td>...</td>\n",
              "      <td>...</td>\n",
              "      <td>...</td>\n",
              "      <td>...</td>\n",
              "      <td>...</td>\n",
              "      <td>...</td>\n",
              "      <td>...</td>\n",
              "      <td>...</td>\n",
              "      <td>...</td>\n",
              "      <td>...</td>\n",
              "      <td>...</td>\n",
              "    </tr>\n",
              "    <tr>\n",
              "      <th>174384</th>\n",
              "      <td>0.009207</td>\n",
              "      <td>0.801619</td>\n",
              "      <td>0.026752</td>\n",
              "      <td>0.866</td>\n",
              "      <td>0.0</td>\n",
              "      <td>0.000060</td>\n",
              "      <td>0.545455</td>\n",
              "      <td>0.1780</td>\n",
              "      <td>0.859933</td>\n",
              "      <td>0.0</td>\n",
              "      <td>0.00</td>\n",
              "      <td>0.036663</td>\n",
              "      <td>0.517324</td>\n",
              "      <td>0.1860</td>\n",
              "    </tr>\n",
              "    <tr>\n",
              "      <th>174385</th>\n",
              "      <td>0.798193</td>\n",
              "      <td>0.434211</td>\n",
              "      <td>0.026209</td>\n",
              "      <td>0.211</td>\n",
              "      <td>0.0</td>\n",
              "      <td>0.000000</td>\n",
              "      <td>0.363636</td>\n",
              "      <td>0.1960</td>\n",
              "      <td>0.756949</td>\n",
              "      <td>1.0</td>\n",
              "      <td>0.00</td>\n",
              "      <td>0.037075</td>\n",
              "      <td>0.388942</td>\n",
              "      <td>0.2280</td>\n",
              "    </tr>\n",
              "    <tr>\n",
              "      <th>174386</th>\n",
              "      <td>0.809237</td>\n",
              "      <td>0.679150</td>\n",
              "      <td>0.039977</td>\n",
              "      <td>0.589</td>\n",
              "      <td>0.0</td>\n",
              "      <td>0.920000</td>\n",
              "      <td>0.363636</td>\n",
              "      <td>0.1130</td>\n",
              "      <td>0.745549</td>\n",
              "      <td>0.0</td>\n",
              "      <td>0.00</td>\n",
              "      <td>0.029042</td>\n",
              "      <td>0.443757</td>\n",
              "      <td>0.7140</td>\n",
              "    </tr>\n",
              "    <tr>\n",
              "      <th>174387</th>\n",
              "      <td>0.923695</td>\n",
              "      <td>0.467611</td>\n",
              "      <td>0.044824</td>\n",
              "      <td>0.240</td>\n",
              "      <td>1.0</td>\n",
              "      <td>0.000000</td>\n",
              "      <td>0.000000</td>\n",
              "      <td>0.1130</td>\n",
              "      <td>0.750497</td>\n",
              "      <td>1.0</td>\n",
              "      <td>0.69</td>\n",
              "      <td>0.038826</td>\n",
              "      <td>0.703549</td>\n",
              "      <td>0.3200</td>\n",
              "    </tr>\n",
              "    <tr>\n",
              "      <th>174388</th>\n",
              "      <td>0.239960</td>\n",
              "      <td>0.685223</td>\n",
              "      <td>0.036145</td>\n",
              "      <td>0.460</td>\n",
              "      <td>0.0</td>\n",
              "      <td>0.891000</td>\n",
              "      <td>0.636364</td>\n",
              "      <td>0.2150</td>\n",
              "      <td>0.747992</td>\n",
              "      <td>1.0</td>\n",
              "      <td>0.00</td>\n",
              "      <td>0.026571</td>\n",
              "      <td>0.460800</td>\n",
              "      <td>0.7470</td>\n",
              "    </tr>\n",
              "  </tbody>\n",
              "</table>\n",
              "<p>174389 rows × 14 columns</p>\n",
              "</div>"
            ],
            "text/plain": [
              "        acousticness  danceability  duration_ms  ...  speechiness     tempo  valence\n",
              "0           0.994980      0.605263     0.030637  ...     0.096395  0.615900   0.6340\n",
              "1           0.645582      0.862348     0.027237  ...     0.054995  0.356823   0.9500\n",
              "2           0.996988      0.654858     0.029792  ...     0.179197  0.400810   0.6890\n",
              "3           0.000174      0.738866     0.078215  ...     0.043769  0.525640   0.0422\n",
              "4           0.296185      0.712551     0.030054  ...     0.079094  0.501324   0.2990\n",
              "...              ...           ...          ...  ...          ...       ...      ...\n",
              "174384      0.009207      0.801619     0.026752  ...     0.036663  0.517324   0.1860\n",
              "174385      0.798193      0.434211     0.026209  ...     0.037075  0.388942   0.2280\n",
              "174386      0.809237      0.679150     0.039977  ...     0.029042  0.443757   0.7140\n",
              "174387      0.923695      0.467611     0.044824  ...     0.038826  0.703549   0.3200\n",
              "174388      0.239960      0.685223     0.036145  ...     0.026571  0.460800   0.7470\n",
              "\n",
              "[174389 rows x 14 columns]"
            ]
          },
          "metadata": {
            "tags": []
          },
          "execution_count": 163
        }
      ]
    },
    {
      "cell_type": "markdown",
      "metadata": {
        "id": "4jO9OS2DHHCL"
      },
      "source": [
        "# Clustering Songs with Similar Genres"
      ]
    },
    {
      "cell_type": "code",
      "metadata": {
        "colab": {
          "base_uri": "https://localhost:8080/"
        },
        "id": "Iyfn8cGUIbsk",
        "outputId": "5a0825ee-01f7-4302-f395-daaaf9ee60e2"
      },
      "source": [
        "import datetime\r\n",
        "import pytz\r\n",
        "\r\n",
        "# time to take note of how long process on the cell below is running\r\n",
        "tz = pytz.timezone('Asia/Jakarta')\r\n",
        "datetime.datetime.now(tz)"
      ],
      "execution_count": 164,
      "outputs": [
        {
          "output_type": "execute_result",
          "data": {
            "text/plain": [
              "datetime.datetime(2021, 1, 29, 15, 20, 49, 916814, tzinfo=<DstTzInfo 'Asia/Jakarta' WIB+7:00:00 STD>)"
            ]
          },
          "metadata": {
            "tags": []
          },
          "execution_count": 164
        }
      ]
    },
    {
      "cell_type": "code",
      "metadata": {
        "id": "hn8yf-2oHHCL"
      },
      "source": [
        "# CLuster using KMeans\n",
        "from sklearn.cluster import KMeans\n",
        "# Use elbow method to find the right number of clusters (genre).\n",
        "\n",
        "km = KMeans()\n",
        "k_range = range(1,200)  # k value\n",
        "sse = [] # sse value for each k\n",
        "for i in k_range:\n",
        "    km = KMeans(n_clusters = i)\n",
        "    # use only 1000 sample data to minimize computational load \n",
        "    km.fit(normalized_num_df.sample(1000))\n",
        "    # calculating SSE(Sum of Squared Error)\n",
        "    sse.append(km.inertia_) \n",
        "    \n"
      ],
      "execution_count": 165,
      "outputs": []
    },
    {
      "cell_type": "code",
      "metadata": {
        "colab": {
          "base_uri": "https://localhost:8080/"
        },
        "id": "tc9UbKCUH50n",
        "outputId": "72f0f46a-04ad-476e-af96-e0d2c3741aff"
      },
      "source": [
        "import datetime\r\n",
        "import pytz\r\n",
        "\r\n",
        "tz = pytz.timezone('Asia/Jakarta')\r\n",
        "datetime.datetime.now(tz)"
      ],
      "execution_count": 166,
      "outputs": [
        {
          "output_type": "execute_result",
          "data": {
            "text/plain": [
              "datetime.datetime(2021, 1, 29, 15, 23, 51, 963812, tzinfo=<DstTzInfo 'Asia/Jakarta' WIB+7:00:00 STD>)"
            ]
          },
          "metadata": {
            "tags": []
          },
          "execution_count": 166
        }
      ]
    },
    {
      "cell_type": "code",
      "metadata": {
        "colab": {
          "base_uri": "https://localhost:8080/",
          "height": 301
        },
        "id": "-g4zHuUIHHCM",
        "outputId": "d4dddb33-8719-4cf9-8239-ab066cb6c213"
      },
      "source": [
        "# visualize the result\n",
        "plt.plot(k_range,sse)\n",
        "plt.xlabel('K value')\n",
        "plt.ylabel('SSE Error')\n",
        "plt.title('Best K value')\n",
        "plt.xlim([0,200])\n",
        "plt.show()"
      ],
      "execution_count": 167,
      "outputs": [
        {
          "output_type": "display_data",
          "data": {
            "image/png": "[encoded data removed]",
            "text/plain": [
              "<Figure size 432x288 with 1 Axes>"
            ]
          },
          "metadata": {
            "tags": []
          }
        }
      ]
    },
    {
      "cell_type": "markdown",
      "metadata": {
        "id": "ucDwQS3tJ2nI"
      },
      "source": [
        "Take the value of elbowing point for the right number of clusters. 20 seems good."
      ]
    },
    {
      "cell_type": "code",
      "metadata": {
        "colab": {
          "base_uri": "https://localhost:8080/"
        },
        "id": "ANGe61MCVvMp",
        "outputId": "83c610ad-ed02-4de2-fc69-ac2a1a25e9b0"
      },
      "source": [
        "import datetime\r\n",
        "import pytz\r\n",
        "\r\n",
        "tz = pytz.timezone('Asia/Jakarta')\r\n",
        "datetime.datetime.now(tz)"
      ],
      "execution_count": 168,
      "outputs": [
        {
          "output_type": "execute_result",
          "data": {
            "text/plain": [
              "datetime.datetime(2021, 1, 29, 15, 23, 52, 326198, tzinfo=<DstTzInfo 'Asia/Jakarta' WIB+7:00:00 STD>)"
            ]
          },
          "metadata": {
            "tags": []
          },
          "execution_count": 168
        }
      ]
    },
    {
      "cell_type": "markdown",
      "metadata": {
        "id": "L4taJM53K5_M"
      },
      "source": [
        "Clustering the data with 20 cluster"
      ]
    },
    {
      "cell_type": "code",
      "metadata": {
        "id": "fuTgO8yLHHCN"
      },
      "source": [
        "km = KMeans(n_clusters=20)\n",
        "predicted_genre = km.fit_predict(normalized_num_df)"
      ],
      "execution_count": 169,
      "outputs": []
    },
    {
      "cell_type": "code",
      "metadata": {
        "colab": {
          "base_uri": "https://localhost:8080/"
        },
        "id": "utV3XFk8VwBa",
        "outputId": "e76b773c-2299-4e9c-a320-3d2af36622b6"
      },
      "source": [
        "import datetime\r\n",
        "import pytz\r\n",
        "\r\n",
        "tz = pytz.timezone('Asia/Jakarta')\r\n",
        "datetime.datetime.now(tz)"
      ],
      "execution_count": 170,
      "outputs": [
        {
          "output_type": "execute_result",
          "data": {
            "text/plain": [
              "datetime.datetime(2021, 1, 29, 15, 24, 22, 253909, tzinfo=<DstTzInfo 'Asia/Jakarta' WIB+7:00:00 STD>)"
            ]
          },
          "metadata": {
            "tags": []
          },
          "execution_count": 170
        }
      ]
    },
    {
      "cell_type": "markdown",
      "metadata": {
        "id": "_t6OhBNCLMcF"
      },
      "source": [
        "Add the predicted cluster result to dataframe."
      ]
    },
    {
      "cell_type": "code",
      "metadata": {
        "colab": {
          "base_uri": "https://localhost:8080/",
          "height": 401
        },
        "id": "ow_-TsKWVmEC",
        "outputId": "6183e2d9-e3d3-4c80-e0ad-2f20eb9fe328"
      },
      "source": [
        "data_df['predicted_genre'] = predicted_genre\r\n",
        "data_df.head()"
      ],
      "execution_count": 171,
      "outputs": [
        {
          "output_type": "execute_result",
          "data": {
            "text/html": [
              "<div>\n",
              "<style scoped>\n",
              "    .dataframe tbody tr th:only-of-type {\n",
              "        vertical-align: middle;\n",
              "    }\n",
              "\n",
              "    .dataframe tbody tr th {\n",
              "        vertical-align: top;\n",
              "    }\n",
              "\n",
              "    .dataframe thead th {\n",
              "        text-align: right;\n",
              "    }\n",
              "</style>\n",
              "<table border=\"1\" class=\"dataframe\">\n",
              "  <thead>\n",
              "    <tr style=\"text-align: right;\">\n",
              "      <th></th>\n",
              "      <th>acousticness</th>\n",
              "      <th>artists</th>\n",
              "      <th>danceability</th>\n",
              "      <th>duration_ms</th>\n",
              "      <th>energy</th>\n",
              "      <th>explicit</th>\n",
              "      <th>id</th>\n",
              "      <th>instrumentalness</th>\n",
              "      <th>key</th>\n",
              "      <th>liveness</th>\n",
              "      <th>loudness</th>\n",
              "      <th>mode</th>\n",
              "      <th>name</th>\n",
              "      <th>popularity</th>\n",
              "      <th>release_date</th>\n",
              "      <th>speechiness</th>\n",
              "      <th>tempo</th>\n",
              "      <th>valence</th>\n",
              "      <th>year</th>\n",
              "      <th>predicted_genre</th>\n",
              "    </tr>\n",
              "  </thead>\n",
              "  <tbody>\n",
              "    <tr>\n",
              "      <th>0</th>\n",
              "      <td>0.994980</td>\n",
              "      <td>Mamie Smith</td>\n",
              "      <td>0.605263</td>\n",
              "      <td>0.030637</td>\n",
              "      <td>0.224</td>\n",
              "      <td>0.0</td>\n",
              "      <td>0cS0A1fUEUd1EW3FcF8AEI</td>\n",
              "      <td>0.000522</td>\n",
              "      <td>0.454545</td>\n",
              "      <td>0.3790</td>\n",
              "      <td>0.741868</td>\n",
              "      <td>0.0</td>\n",
              "      <td>Keep A Song In Your Soul</td>\n",
              "      <td>0.12</td>\n",
              "      <td>1920-01-01</td>\n",
              "      <td>0.096395</td>\n",
              "      <td>0.615900</td>\n",
              "      <td>0.6340</td>\n",
              "      <td>1920</td>\n",
              "      <td>4</td>\n",
              "    </tr>\n",
              "    <tr>\n",
              "      <th>1</th>\n",
              "      <td>0.645582</td>\n",
              "      <td>Screamin Jay Hawkins</td>\n",
              "      <td>0.862348</td>\n",
              "      <td>0.027237</td>\n",
              "      <td>0.517</td>\n",
              "      <td>0.0</td>\n",
              "      <td>0hbkKFIJm7Z05H8Zl9w30f</td>\n",
              "      <td>0.026400</td>\n",
              "      <td>0.454545</td>\n",
              "      <td>0.0809</td>\n",
              "      <td>0.825918</td>\n",
              "      <td>0.0</td>\n",
              "      <td>I Put A Spell On You</td>\n",
              "      <td>0.07</td>\n",
              "      <td>1920-01-05</td>\n",
              "      <td>0.054995</td>\n",
              "      <td>0.356823</td>\n",
              "      <td>0.9500</td>\n",
              "      <td>1920</td>\n",
              "      <td>4</td>\n",
              "    </tr>\n",
              "    <tr>\n",
              "      <th>2</th>\n",
              "      <td>0.996988</td>\n",
              "      <td>Mamie Smith</td>\n",
              "      <td>0.654858</td>\n",
              "      <td>0.029792</td>\n",
              "      <td>0.186</td>\n",
              "      <td>0.0</td>\n",
              "      <td>11m7laMUgmOKqI3oYzuhne</td>\n",
              "      <td>0.000018</td>\n",
              "      <td>0.000000</td>\n",
              "      <td>0.5190</td>\n",
              "      <td>0.750168</td>\n",
              "      <td>1.0</td>\n",
              "      <td>Golfing Papa</td>\n",
              "      <td>0.04</td>\n",
              "      <td>1920-01-01</td>\n",
              "      <td>0.179197</td>\n",
              "      <td>0.400810</td>\n",
              "      <td>0.6890</td>\n",
              "      <td>1920</td>\n",
              "      <td>18</td>\n",
              "    </tr>\n",
              "    <tr>\n",
              "      <th>3</th>\n",
              "      <td>0.000174</td>\n",
              "      <td>Oscar Velazquez</td>\n",
              "      <td>0.738866</td>\n",
              "      <td>0.078215</td>\n",
              "      <td>0.798</td>\n",
              "      <td>0.0</td>\n",
              "      <td>19Lc5SfJJ5O1oaxY0fpwfh</td>\n",
              "      <td>0.801000</td>\n",
              "      <td>0.181818</td>\n",
              "      <td>0.1280</td>\n",
              "      <td>0.825135</td>\n",
              "      <td>1.0</td>\n",
              "      <td>True House Music - Xavier Santos &amp; Carlos Gomi...</td>\n",
              "      <td>0.17</td>\n",
              "      <td>1920-01-01</td>\n",
              "      <td>0.043769</td>\n",
              "      <td>0.525640</td>\n",
              "      <td>0.0422</td>\n",
              "      <td>1920</td>\n",
              "      <td>2</td>\n",
              "    </tr>\n",
              "    <tr>\n",
              "      <th>4</th>\n",
              "      <td>0.296185</td>\n",
              "      <td>Mixe</td>\n",
              "      <td>0.712551</td>\n",
              "      <td>0.030054</td>\n",
              "      <td>0.707</td>\n",
              "      <td>1.0</td>\n",
              "      <td>2hJjbsLCytGsnAHfdsLejp</td>\n",
              "      <td>0.000246</td>\n",
              "      <td>0.909091</td>\n",
              "      <td>0.4020</td>\n",
              "      <td>0.845102</td>\n",
              "      <td>0.0</td>\n",
              "      <td>Xuniverxe</td>\n",
              "      <td>0.02</td>\n",
              "      <td>1920-10-01</td>\n",
              "      <td>0.079094</td>\n",
              "      <td>0.501324</td>\n",
              "      <td>0.2990</td>\n",
              "      <td>1920</td>\n",
              "      <td>14</td>\n",
              "    </tr>\n",
              "  </tbody>\n",
              "</table>\n",
              "</div>"
            ],
            "text/plain": [
              "   acousticness               artists  ...  year  predicted_genre\n",
              "0      0.994980           Mamie Smith  ...  1920                4\n",
              "1      0.645582  Screamin Jay Hawkins  ...  1920                4\n",
              "2      0.996988           Mamie Smith  ...  1920               18\n",
              "3      0.000174       Oscar Velazquez  ...  1920                2\n",
              "4      0.296185                  Mixe  ...  1920               14\n",
              "\n",
              "[5 rows x 20 columns]"
            ]
          },
          "metadata": {
            "tags": []
          },
          "execution_count": 171
        }
      ]
    },
    {
      "cell_type": "markdown",
      "metadata": {
        "id": "MRswNplzWfQG"
      },
      "source": [
        "# Song Recommender"
      ]
    },
    {
      "cell_type": "code",
      "metadata": {
        "colab": {
          "base_uri": "https://localhost:8080/"
        },
        "id": "8QKQb9zMZs0j",
        "outputId": "a3972ca3-19de-4b02-d5e7-a3710c4fcfda"
      },
      "source": [
        "num_df.columns"
      ],
      "execution_count": 172,
      "outputs": [
        {
          "output_type": "execute_result",
          "data": {
            "text/plain": [
              "Index(['acousticness', 'danceability', 'duration_ms', 'energy', 'explicit',\n",
              "       'instrumentalness', 'key', 'liveness', 'loudness', 'mode', 'popularity',\n",
              "       'speechiness', 'tempo', 'valence'],\n",
              "      dtype='object')"
            ]
          },
          "metadata": {
            "tags": []
          },
          "execution_count": 172
        }
      ]
    },
    {
      "cell_type": "code",
      "metadata": {
        "id": "GxVadgwWY3vs"
      },
      "source": [
        "from tqdm import tqdm"
      ],
      "execution_count": 173,
      "outputs": []
    },
    {
      "cell_type": "markdown",
      "metadata": {
        "id": "NG2IO8vBLxYO"
      },
      "source": [
        "Create class for recommend song using manhattan distance. User can ask for recommendation by inserting song name and artist to the parameter. If the song with the same name(title) and artist has many version, it will use the first version."
      ]
    },
    {
      "cell_type": "code",
      "metadata": {
        "id": "MFZG9f2ta1te"
      },
      "source": [
        "class SongRecommender():\r\n",
        "    def __init__(self, rec_data):\r\n",
        "        # set data for the class to work with \r\n",
        "        self.rec_data_ = rec_data\r\n",
        "    \r\n",
        "    # function for changing the data to work with\r\n",
        "    def change_data(self, rec_data):\r\n",
        "        self.rec_data_ = rec_data\r\n",
        "\r\n",
        "    # to check if we get the right song \r\n",
        "    def get_song(self, song_name, artists_name):\r\n",
        "        song = self.rec_data_[((self.rec_data_.name.str.lower() == song_name.lower()) & (self.rec_data_.artists.str.lower() == artists_name.lower()))].head(1)          \r\n",
        "        return song\r\n",
        "\r\n",
        "    # function to get reccomendation songs, the default amount of result songs are 5\r\n",
        "    def get_recom(self, song_name, artists_name, amount=5):\r\n",
        "        distances = []\r\n",
        "        # choosing the data for our song with the keyword of song name and artist \r\n",
        "        song = self.rec_data_[((self.rec_data_.name.str.lower() == song_name.lower()) & (self.rec_data_.artists.str.lower() == artists_name.lower()))].head(1).values[0]  \r\n",
        "        # exclude song that we search from the result data\r\n",
        "        res_data = self.rec_data_[(self.rec_data_.name.str.lower() != song_name.lower()) & (self.rec_data_.artists.str.lower() != artists_name.lower())]\r\n",
        "        for r_song in tqdm(res_data.values):\r\n",
        "            dist = 0\r\n",
        "            for col in np.arange(len(res_data.columns)):\r\n",
        "                # indices of non-numerical columns\r\n",
        "                if not col in [1, 6, 12, 14, 18]:\r\n",
        "                    # calculating the manhattan distances for each numerical feature\r\n",
        "                    dist = dist + np.absolute(float(song[col]) - float(r_song[col]))\r\n",
        "            distances.append(dist)\r\n",
        "        res_data['distance'] = distances\r\n",
        "        # sorting result data to be ascending by 'distance' feature\r\n",
        "        res_data = res_data.sort_values('distance')\r\n",
        "        columns = ['artists', 'name']\r\n",
        "        return res_data[columns][:amount]"
      ],
      "execution_count": 174,
      "outputs": []
    },
    {
      "cell_type": "code",
      "metadata": {
        "id": "eZH4ptz45BFq"
      },
      "source": [
        "recommender = SongRecommender(data_df)"
      ],
      "execution_count": 175,
      "outputs": []
    },
    {
      "cell_type": "markdown",
      "metadata": {
        "id": "Po6Eaq6_MF9p"
      },
      "source": [
        "Let's test it. First check if the song in the parameter is true."
      ]
    },
    {
      "cell_type": "code",
      "metadata": {
        "colab": {
          "base_uri": "https://localhost:8080/",
          "height": 114
        },
        "id": "lKswnEd1NJQe",
        "outputId": "d22baedf-f2bd-4316-a109-198825105c80"
      },
      "source": [
        "recommender.get_song('seven', 'Taylor Swift')"
      ],
      "execution_count": 176,
      "outputs": [
        {
          "output_type": "execute_result",
          "data": {
            "text/html": [
              "<div>\n",
              "<style scoped>\n",
              "    .dataframe tbody tr th:only-of-type {\n",
              "        vertical-align: middle;\n",
              "    }\n",
              "\n",
              "    .dataframe tbody tr th {\n",
              "        vertical-align: top;\n",
              "    }\n",
              "\n",
              "    .dataframe thead th {\n",
              "        text-align: right;\n",
              "    }\n",
              "</style>\n",
              "<table border=\"1\" class=\"dataframe\">\n",
              "  <thead>\n",
              "    <tr style=\"text-align: right;\">\n",
              "      <th></th>\n",
              "      <th>acousticness</th>\n",
              "      <th>artists</th>\n",
              "      <th>danceability</th>\n",
              "      <th>duration_ms</th>\n",
              "      <th>energy</th>\n",
              "      <th>explicit</th>\n",
              "      <th>id</th>\n",
              "      <th>instrumentalness</th>\n",
              "      <th>key</th>\n",
              "      <th>liveness</th>\n",
              "      <th>loudness</th>\n",
              "      <th>mode</th>\n",
              "      <th>name</th>\n",
              "      <th>popularity</th>\n",
              "      <th>release_date</th>\n",
              "      <th>speechiness</th>\n",
              "      <th>tempo</th>\n",
              "      <th>valence</th>\n",
              "      <th>year</th>\n",
              "      <th>predicted_genre</th>\n",
              "    </tr>\n",
              "  </thead>\n",
              "  <tbody>\n",
              "    <tr>\n",
              "      <th>110006</th>\n",
              "      <td>0.903614</td>\n",
              "      <td>Taylor Swift</td>\n",
              "      <td>0.603239</td>\n",
              "      <td>0.038244</td>\n",
              "      <td>0.488</td>\n",
              "      <td>0.0</td>\n",
              "      <td>6KJqZcs9XDgVck7Lg9QOTC</td>\n",
              "      <td>0.000027</td>\n",
              "      <td>0.363636</td>\n",
              "      <td>0.091</td>\n",
              "      <td>0.770981</td>\n",
              "      <td>1.0</td>\n",
              "      <td>seven</td>\n",
              "      <td>0.73</td>\n",
              "      <td>2020-07-24</td>\n",
              "      <td>0.028218</td>\n",
              "      <td>0.389829</td>\n",
              "      <td>0.415</td>\n",
              "      <td>2020</td>\n",
              "      <td>1</td>\n",
              "    </tr>\n",
              "  </tbody>\n",
              "</table>\n",
              "</div>"
            ],
            "text/plain": [
              "        acousticness       artists  ...  year  predicted_genre\n",
              "110006      0.903614  Taylor Swift  ...  2020                1\n",
              "\n",
              "[1 rows x 20 columns]"
            ]
          },
          "metadata": {
            "tags": []
          },
          "execution_count": 176
        }
      ]
    },
    {
      "cell_type": "markdown",
      "metadata": {
        "id": "B4k-0QFgQGHu"
      },
      "source": [
        "Then get recommendation."
      ]
    },
    {
      "cell_type": "code",
      "metadata": {
        "colab": {
          "base_uri": "https://localhost:8080/",
          "height": 304
        },
        "id": "jXjBUmyt5DG2",
        "outputId": "2aec0fe1-f4e7-450c-ccaf-6e395fee20cf"
      },
      "source": [
        "recommender.get_recom('seven', 'Taylor Swift')"
      ],
      "execution_count": 177,
      "outputs": [
        {
          "output_type": "stream",
          "text": [
            "100%|██████████| 174177/174177 [00:17<00:00, 9969.51it/s]\n",
            "/usr/local/lib/python3.6/dist-packages/ipykernel_launcher.py:30: SettingWithCopyWarning: \n",
            "A value is trying to be set on a copy of a slice from a DataFrame.\n",
            "Try using .loc[row_indexer,col_indexer] = value instead\n",
            "\n",
            "See the caveats in the documentation: https://pandas.pydata.org/pandas-docs/stable/user_guide/indexing.html#returning-a-view-versus-a-copy\n"
          ],
          "name": "stderr"
        },
        {
          "output_type": "execute_result",
          "data": {
            "text/html": [
              "<div>\n",
              "<style scoped>\n",
              "    .dataframe tbody tr th:only-of-type {\n",
              "        vertical-align: middle;\n",
              "    }\n",
              "\n",
              "    .dataframe tbody tr th {\n",
              "        vertical-align: top;\n",
              "    }\n",
              "\n",
              "    .dataframe thead th {\n",
              "        text-align: right;\n",
              "    }\n",
              "</style>\n",
              "<table border=\"1\" class=\"dataframe\">\n",
              "  <thead>\n",
              "    <tr style=\"text-align: right;\">\n",
              "      <th></th>\n",
              "      <th>artists</th>\n",
              "      <th>name</th>\n",
              "    </tr>\n",
              "  </thead>\n",
              "  <tbody>\n",
              "    <tr>\n",
              "      <th>18560</th>\n",
              "      <td>The Paper Kites</td>\n",
              "      <td>Bloom - Bonus Track</td>\n",
              "    </tr>\n",
              "    <tr>\n",
              "      <th>18042</th>\n",
              "      <td>The Steeldrivers</td>\n",
              "      <td>Where Rainbows Never Die</td>\n",
              "    </tr>\n",
              "    <tr>\n",
              "      <th>14177</th>\n",
              "      <td>Paula Abdul</td>\n",
              "      <td>Rush Rush</td>\n",
              "    </tr>\n",
              "    <tr>\n",
              "      <th>37472</th>\n",
              "      <td>Tyler Childers</td>\n",
              "      <td>Coal</td>\n",
              "    </tr>\n",
              "    <tr>\n",
              "      <th>93284</th>\n",
              "      <td>Daniel Caesar</td>\n",
              "      <td>We Find Love</td>\n",
              "    </tr>\n",
              "  </tbody>\n",
              "</table>\n",
              "</div>"
            ],
            "text/plain": [
              "                artists                      name\n",
              "18560   The Paper Kites       Bloom - Bonus Track\n",
              "18042  The Steeldrivers  Where Rainbows Never Die\n",
              "14177       Paula Abdul                 Rush Rush\n",
              "37472    Tyler Childers                      Coal\n",
              "93284     Daniel Caesar              We Find Love"
            ]
          },
          "metadata": {
            "tags": []
          },
          "execution_count": 177
        }
      ]
    },
    {
      "cell_type": "markdown",
      "metadata": {
        "id": "vx5aM0VaNyza"
      },
      "source": [
        "Let's test with common song name that owned by many artists."
      ]
    },
    {
      "cell_type": "code",
      "metadata": {
        "colab": {
          "base_uri": "https://localhost:8080/",
          "height": 794
        },
        "id": "jx0_rR_VD2HD",
        "outputId": "9353621c-d3e5-41c1-8e69-d410cc03aafa"
      },
      "source": [
        "data_df[data_df['name']==\"One\"]"
      ],
      "execution_count": 178,
      "outputs": [
        {
          "output_type": "execute_result",
          "data": {
            "text/html": [
              "<div>\n",
              "<style scoped>\n",
              "    .dataframe tbody tr th:only-of-type {\n",
              "        vertical-align: middle;\n",
              "    }\n",
              "\n",
              "    .dataframe tbody tr th {\n",
              "        vertical-align: top;\n",
              "    }\n",
              "\n",
              "    .dataframe thead th {\n",
              "        text-align: right;\n",
              "    }\n",
              "</style>\n",
              "<table border=\"1\" class=\"dataframe\">\n",
              "  <thead>\n",
              "    <tr style=\"text-align: right;\">\n",
              "      <th></th>\n",
              "      <th>acousticness</th>\n",
              "      <th>artists</th>\n",
              "      <th>danceability</th>\n",
              "      <th>duration_ms</th>\n",
              "      <th>energy</th>\n",
              "      <th>explicit</th>\n",
              "      <th>id</th>\n",
              "      <th>instrumentalness</th>\n",
              "      <th>key</th>\n",
              "      <th>liveness</th>\n",
              "      <th>loudness</th>\n",
              "      <th>mode</th>\n",
              "      <th>name</th>\n",
              "      <th>popularity</th>\n",
              "      <th>release_date</th>\n",
              "      <th>speechiness</th>\n",
              "      <th>tempo</th>\n",
              "      <th>valence</th>\n",
              "      <th>year</th>\n",
              "      <th>predicted_genre</th>\n",
              "    </tr>\n",
              "  </thead>\n",
              "  <tbody>\n",
              "    <tr>\n",
              "      <th>12454</th>\n",
              "      <td>0.151606</td>\n",
              "      <td>Three Dog Night</td>\n",
              "      <td>0.571862</td>\n",
              "      <td>0.033354</td>\n",
              "      <td>0.419</td>\n",
              "      <td>0.0</td>\n",
              "      <td>4KkGTqja19AHqItq3XBV3C</td>\n",
              "      <td>0.000022</td>\n",
              "      <td>0.909091</td>\n",
              "      <td>0.1130</td>\n",
              "      <td>0.730092</td>\n",
              "      <td>0.0</td>\n",
              "      <td>One</td>\n",
              "      <td>0.47</td>\n",
              "      <td>1982-01-01</td>\n",
              "      <td>0.040268</td>\n",
              "      <td>0.509090</td>\n",
              "      <td>0.4560</td>\n",
              "      <td>1982</td>\n",
              "      <td>16</td>\n",
              "    </tr>\n",
              "    <tr>\n",
              "      <th>14098</th>\n",
              "      <td>0.245984</td>\n",
              "      <td>U2</td>\n",
              "      <td>0.396761</td>\n",
              "      <td>0.050859</td>\n",
              "      <td>0.534</td>\n",
              "      <td>0.0</td>\n",
              "      <td>3G69vJMWsX6ZohTykad2AU</td>\n",
              "      <td>0.001040</td>\n",
              "      <td>0.000000</td>\n",
              "      <td>0.1550</td>\n",
              "      <td>0.801926</td>\n",
              "      <td>1.0</td>\n",
              "      <td>One</td>\n",
              "      <td>0.76</td>\n",
              "      <td>1991-11-18</td>\n",
              "      <td>0.038002</td>\n",
              "      <td>0.744558</td>\n",
              "      <td>0.3250</td>\n",
              "      <td>1991</td>\n",
              "      <td>6</td>\n",
              "    </tr>\n",
              "    <tr>\n",
              "      <th>22817</th>\n",
              "      <td>0.806225</td>\n",
              "      <td>Mushy Peas</td>\n",
              "      <td>0.415992</td>\n",
              "      <td>0.040300</td>\n",
              "      <td>0.354</td>\n",
              "      <td>0.0</td>\n",
              "      <td>2fM7p3skZQrnkEw5v542ru</td>\n",
              "      <td>0.001150</td>\n",
              "      <td>0.181818</td>\n",
              "      <td>0.0782</td>\n",
              "      <td>0.763386</td>\n",
              "      <td>1.0</td>\n",
              "      <td>One</td>\n",
              "      <td>0.00</td>\n",
              "      <td>1937-01-17</td>\n",
              "      <td>0.042945</td>\n",
              "      <td>0.607223</td>\n",
              "      <td>0.0969</td>\n",
              "      <td>1937</td>\n",
              "      <td>1</td>\n",
              "    </tr>\n",
              "    <tr>\n",
              "      <th>34792</th>\n",
              "      <td>0.000021</td>\n",
              "      <td>Creed</td>\n",
              "      <td>0.563765</td>\n",
              "      <td>0.055799</td>\n",
              "      <td>0.933</td>\n",
              "      <td>0.0</td>\n",
              "      <td>35GwlKlVXgFCMF5uTp5r7P</td>\n",
              "      <td>0.000009</td>\n",
              "      <td>0.545455</td>\n",
              "      <td>0.1170</td>\n",
              "      <td>0.881685</td>\n",
              "      <td>0.0</td>\n",
              "      <td>One</td>\n",
              "      <td>0.54</td>\n",
              "      <td>1997-01-01</td>\n",
              "      <td>0.036045</td>\n",
              "      <td>0.455617</td>\n",
              "      <td>0.4350</td>\n",
              "      <td>1997</td>\n",
              "      <td>0</td>\n",
              "    </tr>\n",
              "    <tr>\n",
              "      <th>47939</th>\n",
              "      <td>0.949799</td>\n",
              "      <td>Harry Nilsson</td>\n",
              "      <td>0.460526</td>\n",
              "      <td>0.031307</td>\n",
              "      <td>0.063</td>\n",
              "      <td>0.0</td>\n",
              "      <td>7Ci3Yc9H2YliGFc1czyqI1</td>\n",
              "      <td>0.000131</td>\n",
              "      <td>0.000000</td>\n",
              "      <td>0.1000</td>\n",
              "      <td>0.607768</td>\n",
              "      <td>0.0</td>\n",
              "      <td>One</td>\n",
              "      <td>0.39</td>\n",
              "      <td>1968-07-01</td>\n",
              "      <td>0.039856</td>\n",
              "      <td>0.514942</td>\n",
              "      <td>0.2080</td>\n",
              "      <td>1968</td>\n",
              "      <td>8</td>\n",
              "    </tr>\n",
              "    <tr>\n",
              "      <th>48506</th>\n",
              "      <td>0.936747</td>\n",
              "      <td>Harry Nilsson</td>\n",
              "      <td>0.459514</td>\n",
              "      <td>0.025069</td>\n",
              "      <td>0.163</td>\n",
              "      <td>0.0</td>\n",
              "      <td>6n6NlFLLloIFPdVhJScHBv</td>\n",
              "      <td>0.110000</td>\n",
              "      <td>0.000000</td>\n",
              "      <td>0.1570</td>\n",
              "      <td>0.685052</td>\n",
              "      <td>0.0</td>\n",
              "      <td>One</td>\n",
              "      <td>0.42</td>\n",
              "      <td>1971-06-01</td>\n",
              "      <td>0.045005</td>\n",
              "      <td>0.513135</td>\n",
              "      <td>0.2520</td>\n",
              "      <td>1971</td>\n",
              "      <td>8</td>\n",
              "    </tr>\n",
              "    <tr>\n",
              "      <th>71130</th>\n",
              "      <td>0.410643</td>\n",
              "      <td>Three Dog Night</td>\n",
              "      <td>0.352227</td>\n",
              "      <td>0.033749</td>\n",
              "      <td>0.457</td>\n",
              "      <td>0.0</td>\n",
              "      <td>0TGKBG5wK1ZGSACf6uso3H</td>\n",
              "      <td>0.000000</td>\n",
              "      <td>0.000000</td>\n",
              "      <td>0.0950</td>\n",
              "      <td>0.770840</td>\n",
              "      <td>0.0</td>\n",
              "      <td>One</td>\n",
              "      <td>0.52</td>\n",
              "      <td>1993-12-07</td>\n",
              "      <td>0.044181</td>\n",
              "      <td>0.761916</td>\n",
              "      <td>0.4490</td>\n",
              "      <td>1993</td>\n",
              "      <td>0</td>\n",
              "    </tr>\n",
              "    <tr>\n",
              "      <th>90080</th>\n",
              "      <td>0.616466</td>\n",
              "      <td>Johnny Cash</td>\n",
              "      <td>0.520243</td>\n",
              "      <td>0.042549</td>\n",
              "      <td>0.497</td>\n",
              "      <td>0.0</td>\n",
              "      <td>0Vnw5XZAHDiTSG1x29yox5</td>\n",
              "      <td>0.004180</td>\n",
              "      <td>0.000000</td>\n",
              "      <td>0.3870</td>\n",
              "      <td>0.812059</td>\n",
              "      <td>1.0</td>\n",
              "      <td>One</td>\n",
              "      <td>0.44</td>\n",
              "      <td>2000-01-01</td>\n",
              "      <td>0.027909</td>\n",
              "      <td>0.385352</td>\n",
              "      <td>0.4170</td>\n",
              "      <td>2000</td>\n",
              "      <td>1</td>\n",
              "    </tr>\n",
              "    <tr>\n",
              "      <th>119683</th>\n",
              "      <td>0.364458</td>\n",
              "      <td>Ahmad Jamal</td>\n",
              "      <td>0.595142</td>\n",
              "      <td>0.081281</td>\n",
              "      <td>0.377</td>\n",
              "      <td>0.0</td>\n",
              "      <td>0Q7N3ZAO7Iu1mJfgaQtMAN</td>\n",
              "      <td>0.845000</td>\n",
              "      <td>0.818182</td>\n",
              "      <td>0.1390</td>\n",
              "      <td>0.623929</td>\n",
              "      <td>0.0</td>\n",
              "      <td>One</td>\n",
              "      <td>0.32</td>\n",
              "      <td>1985-07-17</td>\n",
              "      <td>0.035839</td>\n",
              "      <td>0.396896</td>\n",
              "      <td>0.6360</td>\n",
              "      <td>1985</td>\n",
              "      <td>7</td>\n",
              "    </tr>\n",
              "    <tr>\n",
              "      <th>122426</th>\n",
              "      <td>0.851406</td>\n",
              "      <td>Aimee Mann</td>\n",
              "      <td>0.619433</td>\n",
              "      <td>0.031634</td>\n",
              "      <td>0.166</td>\n",
              "      <td>0.0</td>\n",
              "      <td>5e7OZ8PyDJYQdGAiidCPad</td>\n",
              "      <td>0.001390</td>\n",
              "      <td>0.363636</td>\n",
              "      <td>0.1250</td>\n",
              "      <td>0.720789</td>\n",
              "      <td>0.0</td>\n",
              "      <td>One</td>\n",
              "      <td>0.44</td>\n",
              "      <td>1999-12-07</td>\n",
              "      <td>0.042225</td>\n",
              "      <td>0.511004</td>\n",
              "      <td>0.3560</td>\n",
              "      <td>1999</td>\n",
              "      <td>8</td>\n",
              "    </tr>\n",
              "    <tr>\n",
              "      <th>140016</th>\n",
              "      <td>0.031928</td>\n",
              "      <td>Jay-Roc</td>\n",
              "      <td>0.949393</td>\n",
              "      <td>0.035524</td>\n",
              "      <td>0.547</td>\n",
              "      <td>0.0</td>\n",
              "      <td>2715SyJ4BMTZ8XHtQEsOyJ</td>\n",
              "      <td>0.585000</td>\n",
              "      <td>0.636364</td>\n",
              "      <td>0.1360</td>\n",
              "      <td>0.848923</td>\n",
              "      <td>1.0</td>\n",
              "      <td>One</td>\n",
              "      <td>0.01</td>\n",
              "      <td>2005-01-01</td>\n",
              "      <td>0.128733</td>\n",
              "      <td>0.486606</td>\n",
              "      <td>0.6150</td>\n",
              "      <td>2005</td>\n",
              "      <td>2</td>\n",
              "    </tr>\n",
              "    <tr>\n",
              "      <th>140159</th>\n",
              "      <td>0.009639</td>\n",
              "      <td>Regina Avenue</td>\n",
              "      <td>0.435223</td>\n",
              "      <td>0.048012</td>\n",
              "      <td>0.744</td>\n",
              "      <td>0.0</td>\n",
              "      <td>4hBf05qFC8bX6TKpC7GHB2</td>\n",
              "      <td>0.000016</td>\n",
              "      <td>0.000000</td>\n",
              "      <td>0.1590</td>\n",
              "      <td>0.888012</td>\n",
              "      <td>1.0</td>\n",
              "      <td>One</td>\n",
              "      <td>0.00</td>\n",
              "      <td>2020-06-16</td>\n",
              "      <td>0.039650</td>\n",
              "      <td>0.382083</td>\n",
              "      <td>0.2000</td>\n",
              "      <td>2020</td>\n",
              "      <td>6</td>\n",
              "    </tr>\n",
              "    <tr>\n",
              "      <th>153133</th>\n",
              "      <td>0.245984</td>\n",
              "      <td>U2</td>\n",
              "      <td>0.396761</td>\n",
              "      <td>0.050859</td>\n",
              "      <td>0.534</td>\n",
              "      <td>0.0</td>\n",
              "      <td>3vmGLMqc4JWO9ibyJRs8Zo</td>\n",
              "      <td>0.001040</td>\n",
              "      <td>0.000000</td>\n",
              "      <td>0.1550</td>\n",
              "      <td>0.801926</td>\n",
              "      <td>1.0</td>\n",
              "      <td>One</td>\n",
              "      <td>0.36</td>\n",
              "      <td>1991-11-18</td>\n",
              "      <td>0.038002</td>\n",
              "      <td>0.744558</td>\n",
              "      <td>0.3250</td>\n",
              "      <td>1991</td>\n",
              "      <td>6</td>\n",
              "    </tr>\n",
              "    <tr>\n",
              "      <th>154110</th>\n",
              "      <td>0.029719</td>\n",
              "      <td>Ghostface Killah</td>\n",
              "      <td>0.726721</td>\n",
              "      <td>0.041254</td>\n",
              "      <td>0.739</td>\n",
              "      <td>1.0</td>\n",
              "      <td>3kMaPy5nIPzubgRyZZYnGe</td>\n",
              "      <td>0.000000</td>\n",
              "      <td>1.000000</td>\n",
              "      <td>0.2980</td>\n",
              "      <td>0.851836</td>\n",
              "      <td>1.0</td>\n",
              "      <td>One</td>\n",
              "      <td>0.36</td>\n",
              "      <td>1996-01-01</td>\n",
              "      <td>0.240989</td>\n",
              "      <td>0.368043</td>\n",
              "      <td>0.5260</td>\n",
              "      <td>1996</td>\n",
              "      <td>3</td>\n",
              "    </tr>\n",
              "    <tr>\n",
              "      <th>157309</th>\n",
              "      <td>0.880522</td>\n",
              "      <td>Ed Sheeran</td>\n",
              "      <td>0.469636</td>\n",
              "      <td>0.046467</td>\n",
              "      <td>0.321</td>\n",
              "      <td>0.0</td>\n",
              "      <td>5TvFfDlVoUWZvfqrhTJzD7</td>\n",
              "      <td>0.000000</td>\n",
              "      <td>0.181818</td>\n",
              "      <td>0.0789</td>\n",
              "      <td>0.765484</td>\n",
              "      <td>1.0</td>\n",
              "      <td>One</td>\n",
              "      <td>0.65</td>\n",
              "      <td>2014-06-21</td>\n",
              "      <td>0.043048</td>\n",
              "      <td>0.384088</td>\n",
              "      <td>0.3060</td>\n",
              "      <td>2014</td>\n",
              "      <td>1</td>\n",
              "    </tr>\n",
              "    <tr>\n",
              "      <th>171097</th>\n",
              "      <td>0.084438</td>\n",
              "      <td>Mary J. Blige, U2</td>\n",
              "      <td>0.348178</td>\n",
              "      <td>0.047912</td>\n",
              "      <td>0.874</td>\n",
              "      <td>0.0</td>\n",
              "      <td>3Lk7RWStfLaHG7lXsuS87j</td>\n",
              "      <td>0.000000</td>\n",
              "      <td>0.000000</td>\n",
              "      <td>0.1290</td>\n",
              "      <td>0.890126</td>\n",
              "      <td>1.0</td>\n",
              "      <td>One</td>\n",
              "      <td>0.62</td>\n",
              "      <td>2005-01-01</td>\n",
              "      <td>0.080021</td>\n",
              "      <td>0.763378</td>\n",
              "      <td>0.2690</td>\n",
              "      <td>2005</td>\n",
              "      <td>6</td>\n",
              "    </tr>\n",
              "    <tr>\n",
              "      <th>173891</th>\n",
              "      <td>0.837349</td>\n",
              "      <td>Lewis Capaldi</td>\n",
              "      <td>0.716599</td>\n",
              "      <td>0.032807</td>\n",
              "      <td>0.339</td>\n",
              "      <td>0.0</td>\n",
              "      <td>5C1TucCRf4Vjjree1OItyv</td>\n",
              "      <td>0.000000</td>\n",
              "      <td>0.818182</td>\n",
              "      <td>0.1280</td>\n",
              "      <td>0.828674</td>\n",
              "      <td>1.0</td>\n",
              "      <td>One</td>\n",
              "      <td>0.69</td>\n",
              "      <td>2019-05-17</td>\n",
              "      <td>0.042122</td>\n",
              "      <td>0.484565</td>\n",
              "      <td>0.5120</td>\n",
              "      <td>2019</td>\n",
              "      <td>12</td>\n",
              "    </tr>\n",
              "  </tbody>\n",
              "</table>\n",
              "</div>"
            ],
            "text/plain": [
              "        acousticness            artists  ...  year  predicted_genre\n",
              "12454       0.151606    Three Dog Night  ...  1982               16\n",
              "14098       0.245984                 U2  ...  1991                6\n",
              "22817       0.806225         Mushy Peas  ...  1937                1\n",
              "34792       0.000021              Creed  ...  1997                0\n",
              "47939       0.949799      Harry Nilsson  ...  1968                8\n",
              "48506       0.936747      Harry Nilsson  ...  1971                8\n",
              "71130       0.410643    Three Dog Night  ...  1993                0\n",
              "90080       0.616466        Johnny Cash  ...  2000                1\n",
              "119683      0.364458        Ahmad Jamal  ...  1985                7\n",
              "122426      0.851406         Aimee Mann  ...  1999                8\n",
              "140016      0.031928            Jay-Roc  ...  2005                2\n",
              "140159      0.009639      Regina Avenue  ...  2020                6\n",
              "153133      0.245984                 U2  ...  1991                6\n",
              "154110      0.029719   Ghostface Killah  ...  1996                3\n",
              "157309      0.880522         Ed Sheeran  ...  2014                1\n",
              "171097      0.084438  Mary J. Blige, U2  ...  2005                6\n",
              "173891      0.837349      Lewis Capaldi  ...  2019               12\n",
              "\n",
              "[17 rows x 20 columns]"
            ]
          },
          "metadata": {
            "tags": []
          },
          "execution_count": 178
        }
      ]
    },
    {
      "cell_type": "code",
      "metadata": {
        "colab": {
          "base_uri": "https://localhost:8080/",
          "height": 97
        },
        "id": "sNRekct_NCPQ",
        "outputId": "7bc78a61-574f-41cb-ff53-2bced770560d"
      },
      "source": [
        "recommender.get_song(\"one\",\"U2\")"
      ],
      "execution_count": 179,
      "outputs": [
        {
          "output_type": "execute_result",
          "data": {
            "text/html": [
              "<div>\n",
              "<style scoped>\n",
              "    .dataframe tbody tr th:only-of-type {\n",
              "        vertical-align: middle;\n",
              "    }\n",
              "\n",
              "    .dataframe tbody tr th {\n",
              "        vertical-align: top;\n",
              "    }\n",
              "\n",
              "    .dataframe thead th {\n",
              "        text-align: right;\n",
              "    }\n",
              "</style>\n",
              "<table border=\"1\" class=\"dataframe\">\n",
              "  <thead>\n",
              "    <tr style=\"text-align: right;\">\n",
              "      <th></th>\n",
              "      <th>acousticness</th>\n",
              "      <th>artists</th>\n",
              "      <th>danceability</th>\n",
              "      <th>duration_ms</th>\n",
              "      <th>energy</th>\n",
              "      <th>explicit</th>\n",
              "      <th>id</th>\n",
              "      <th>instrumentalness</th>\n",
              "      <th>key</th>\n",
              "      <th>liveness</th>\n",
              "      <th>loudness</th>\n",
              "      <th>mode</th>\n",
              "      <th>name</th>\n",
              "      <th>popularity</th>\n",
              "      <th>release_date</th>\n",
              "      <th>speechiness</th>\n",
              "      <th>tempo</th>\n",
              "      <th>valence</th>\n",
              "      <th>year</th>\n",
              "      <th>predicted_genre</th>\n",
              "    </tr>\n",
              "  </thead>\n",
              "  <tbody>\n",
              "    <tr>\n",
              "      <th>14098</th>\n",
              "      <td>0.245984</td>\n",
              "      <td>U2</td>\n",
              "      <td>0.396761</td>\n",
              "      <td>0.050859</td>\n",
              "      <td>0.534</td>\n",
              "      <td>0.0</td>\n",
              "      <td>3G69vJMWsX6ZohTykad2AU</td>\n",
              "      <td>0.00104</td>\n",
              "      <td>0.0</td>\n",
              "      <td>0.155</td>\n",
              "      <td>0.801926</td>\n",
              "      <td>1.0</td>\n",
              "      <td>One</td>\n",
              "      <td>0.76</td>\n",
              "      <td>1991-11-18</td>\n",
              "      <td>0.038002</td>\n",
              "      <td>0.744558</td>\n",
              "      <td>0.325</td>\n",
              "      <td>1991</td>\n",
              "      <td>6</td>\n",
              "    </tr>\n",
              "  </tbody>\n",
              "</table>\n",
              "</div>"
            ],
            "text/plain": [
              "       acousticness artists  danceability  ...  valence  year  predicted_genre\n",
              "14098      0.245984      U2      0.396761  ...    0.325  1991                6\n",
              "\n",
              "[1 rows x 20 columns]"
            ]
          },
          "metadata": {
            "tags": []
          },
          "execution_count": 179
        }
      ]
    },
    {
      "cell_type": "code",
      "metadata": {
        "colab": {
          "base_uri": "https://localhost:8080/",
          "height": 304
        },
        "id": "4hT8yypx6WZe",
        "outputId": "deb8715e-25d2-4424-b1cc-9dd3dd6d539e"
      },
      "source": [
        "recommender.get_recom(\"one\",\"U2\")"
      ],
      "execution_count": 180,
      "outputs": [
        {
          "output_type": "stream",
          "text": [
            "100%|██████████| 174168/174168 [00:18<00:00, 9512.13it/s]\n",
            "/usr/local/lib/python3.6/dist-packages/ipykernel_launcher.py:30: SettingWithCopyWarning: \n",
            "A value is trying to be set on a copy of a slice from a DataFrame.\n",
            "Try using .loc[row_indexer,col_indexer] = value instead\n",
            "\n",
            "See the caveats in the documentation: https://pandas.pydata.org/pandas-docs/stable/user_guide/indexing.html#returning-a-view-versus-a-copy\n"
          ],
          "name": "stderr"
        },
        {
          "output_type": "execute_result",
          "data": {
            "text/html": [
              "<div>\n",
              "<style scoped>\n",
              "    .dataframe tbody tr th:only-of-type {\n",
              "        vertical-align: middle;\n",
              "    }\n",
              "\n",
              "    .dataframe tbody tr th {\n",
              "        vertical-align: top;\n",
              "    }\n",
              "\n",
              "    .dataframe thead th {\n",
              "        text-align: right;\n",
              "    }\n",
              "</style>\n",
              "<table border=\"1\" class=\"dataframe\">\n",
              "  <thead>\n",
              "    <tr style=\"text-align: right;\">\n",
              "      <th></th>\n",
              "      <th>artists</th>\n",
              "      <th>name</th>\n",
              "    </tr>\n",
              "  </thead>\n",
              "  <tbody>\n",
              "    <tr>\n",
              "      <th>18106</th>\n",
              "      <td>Hunter Hayes</td>\n",
              "      <td>Wanted</td>\n",
              "    </tr>\n",
              "    <tr>\n",
              "      <th>92900</th>\n",
              "      <td>Young the Giant</td>\n",
              "      <td>Mind Over Matter</td>\n",
              "    </tr>\n",
              "    <tr>\n",
              "      <th>13875</th>\n",
              "      <td>Scorpions</td>\n",
              "      <td>Wind Of Change</td>\n",
              "    </tr>\n",
              "    <tr>\n",
              "      <th>14731</th>\n",
              "      <td>Tim McGraw</td>\n",
              "      <td>Don't Take The Girl</td>\n",
              "    </tr>\n",
              "    <tr>\n",
              "      <th>36266</th>\n",
              "      <td>Augustana</td>\n",
              "      <td>Boston</td>\n",
              "    </tr>\n",
              "  </tbody>\n",
              "</table>\n",
              "</div>"
            ],
            "text/plain": [
              "               artists                 name\n",
              "18106     Hunter Hayes               Wanted\n",
              "92900  Young the Giant     Mind Over Matter\n",
              "13875        Scorpions       Wind Of Change\n",
              "14731       Tim McGraw  Don't Take The Girl\n",
              "36266        Augustana               Boston"
            ]
          },
          "metadata": {
            "tags": []
          },
          "execution_count": 180
        }
      ]
    },
    {
      "cell_type": "markdown",
      "metadata": {
        "id": "XIQpmZBUF3YW"
      },
      "source": [
        "Reference:\r\n",
        "* https://www.kaggle.com/darkstardream/spotify-analysis-starman\r\n",
        "* https://www.kaggle.com/artempozdniakov/spotify-data-eda-and-music-recommendation"
      ]
    }
  ]
}
